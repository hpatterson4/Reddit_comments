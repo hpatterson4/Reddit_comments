{
 "cells": [
  {
   "cell_type": "markdown",
   "metadata": {},
   "source": [
    "# Using Reddit's API for Predicting Comments"
   ]
  },
  {
   "cell_type": "markdown",
   "metadata": {},
   "source": [
    "In this project, we will practice two major skills. Collecting data via an API request and then building a binary predictor.\n",
    "\n",
    "As we discussed in week 2, and earlier today, there are two components to starting a data science problem: the problem statement, and acquiring the data.\n",
    "\n",
    "For this article, your problem statement will be: _What characteristics of a post on Reddit contribute most to the overall interaction (as measured by number of comments)?_\n",
    "\n",
    "Your method for acquiring the data will be scraping the 'hot' threads as listed on the [Reddit homepage](https://www.reddit.com/). You'll acquire _AT LEAST FOUR_ pieces of information about each thread:\n",
    "1. The title of the thread\n",
    "2. The subreddit that the thread corresponds to\n",
    "3. The length of time it has been up on Reddit\n",
    "4. The number of comments on the thread\n",
    "\n",
    "Once you've got the data, you will build a classification model that, using Natural Language Processing and any other relevant features, predicts whether or not a given Reddit post will have above or below the _median_ number of comments.\n",
    "\n",
    "**BONUS PROBLEMS**\n",
    "1. If creating a logistic regression, GridSearch Ridge and Lasso for this model and report the best hyperparameter values.\n",
    "1. Scrape the actual text of the threads using Selenium (you'll learn about this in Webscraping II).\n",
    "2. Write the actual article that you're pitching and turn it into a blog post that you host on your personal website."
   ]
  },
  {
   "cell_type": "markdown",
   "metadata": {},
   "source": [
    "### Scraping Thread Info from Reddit.com"
   ]
  },
  {
   "cell_type": "markdown",
   "metadata": {},
   "source": [
    "#### Set up a request (using requests) to the URL below. \n",
    "\n",
    "*NOTE*: Reddit will throw a [429 error](https://httpstatuses.com/429) when using the following code:\n",
    "```python\n",
    "res = requests.get(URL)\n",
    "```\n",
    "\n",
    "This is because Reddit has throttled python's default user agent. You'll need to set a custom `User-agent` to get your request to work.\n",
    "```python\n",
    "res = requests.get(URL, headers={'User-agent': 'YOUR NAME Bot 0.1'})\n",
    "```"
   ]
  },
  {
   "cell_type": "code",
   "execution_count": 15,
   "metadata": {},
   "outputs": [],
   "source": [
    "import requests\n",
    "import time\n",
    "import json\n",
    "import pandas as pd"
   ]
  },
  {
   "cell_type": "code",
   "execution_count": 198,
   "metadata": {},
   "outputs": [],
   "source": [
    "import pandas as pd\n",
    "import numpy as np\n",
    "from sklearn import preprocessing\n",
    "import matplotlib.pyplot as plt \n",
    "plt.rc(\"font\", size=14)\n",
    "from sklearn.linear_model import LogisticRegression\n",
    "from sklearn.cross_validation import train_test_split\n",
    "import seaborn as sns\n",
    "sns.set(style=\"white\")\n",
    "sns.set(style=\"whitegrid\", color_codes=True)\n",
    "from sklearn.feature_extraction.text import CountVectorizer, TfidfVectorizer\n",
    "from sklearn.model_selection import GridSearchCV"
   ]
  },
  {
   "cell_type": "code",
   "execution_count": 17,
   "metadata": {},
   "outputs": [],
   "source": [
    "url = 'http://www.reddit.com'"
   ]
  },
  {
   "cell_type": "code",
   "execution_count": 18,
   "metadata": {},
   "outputs": [],
   "source": [
    "headers = {'User-agent': 'Bleep blorp bot 0.1'}"
   ]
  },
  {
   "cell_type": "code",
   "execution_count": 19,
   "metadata": {},
   "outputs": [],
   "source": [
    "res = requests.get(url, headers=headers)"
   ]
  },
  {
   "cell_type": "code",
   "execution_count": 20,
   "metadata": {},
   "outputs": [
    {
     "data": {
      "text/plain": [
       "200"
      ]
     },
     "execution_count": 20,
     "metadata": {},
     "output_type": "execute_result"
    }
   ],
   "source": [
    "res.status_code"
   ]
  },
  {
   "cell_type": "markdown",
   "metadata": {},
   "source": [
    "# Creating praw and testing features I will want to use"
   ]
  },
  {
   "cell_type": "code",
   "execution_count": 21,
   "metadata": {},
   "outputs": [
    {
     "name": "stdout",
     "output_type": "stream",
     "text": [
      "['STR_FIELD', '__class__', '__delattr__', '__dict__', '__dir__', '__doc__', '__eq__', '__format__', '__ge__', '__getattr__', '__getattribute__', '__gt__', '__hash__', '__init__', '__init_subclass__', '__le__', '__lt__', '__module__', '__ne__', '__new__', '__reduce__', '__reduce_ex__', '__repr__', '__setattr__', '__sizeof__', '__str__', '__subclasshook__', '__weakref__', '_chunk', '_comments_by_id', '_fetch', '_fetched', '_flair', '_info_params', '_info_path', '_mod', '_reddit', '_reset_attributes', '_safely_add_arguments', '_url_parts', '_vote', 'approved_at_utc', 'approved_by', 'archived', 'author', 'author_flair_background_color', 'author_flair_css_class', 'author_flair_richtext', 'author_flair_template_id', 'author_flair_text', 'author_flair_text_color', 'author_flair_type', 'author_id', 'banned_at_utc', 'banned_by', 'can_gild', 'can_mod_post', 'category', 'clear_vote', 'clicked', 'comment_limit', 'comment_sort', 'comments', 'content_categories', 'contest_mode', 'created', 'created_utc', 'crosspost', 'delete', 'disable_inbox_replies', 'distinguished', 'domain', 'downs', 'downvote', 'duplicates', 'edit', 'edited', 'enable_inbox_replies', 'flair', 'fullname', 'gild', 'gilded', 'hidden', 'hide', 'hide_score', 'id', 'id_from_url', 'is_crosspostable', 'is_original_content', 'is_reddit_media_domain', 'is_self', 'is_video', 'likes', 'link_flair_css_class', 'link_flair_richtext', 'link_flair_text', 'link_flair_text_color', 'link_flair_type', 'locked', 'media', 'media_embed', 'media_only', 'mod', 'mod_note', 'mod_reason_by', 'mod_reason_title', 'mod_reports', 'name', 'no_follow', 'num_comments', 'num_crossposts', 'num_reports', 'over_18', 'parent_whitelist_status', 'parse', 'permalink', 'pinned', 'post_categories', 'pwls', 'quarantine', 'removal_reason', 'reply', 'report', 'report_reasons', 'rte_mode', 'save', 'saved', 'score', 'secure_media', 'secure_media_embed', 'selftext', 'selftext_html', 'send_replies', 'shortlink', 'spoiler', 'stickied', 'subreddit', 'subreddit_id', 'subreddit_name_prefixed', 'subreddit_subscribers', 'subreddit_type', 'suggested_sort', 'thumbnail', 'title', 'unhide', 'unsave', 'ups', 'upvote', 'url', 'user_reports', 'view_count', 'visited', 'whitelist_status', 'wls']\n",
      "['STR_FIELD', '__class__', '__delattr__', '__dict__', '__dir__', '__doc__', '__eq__', '__format__', '__ge__', '__getattr__', '__getattribute__', '__gt__', '__hash__', '__init__', '__init_subclass__', '__le__', '__lt__', '__module__', '__ne__', '__new__', '__reduce__', '__reduce_ex__', '__repr__', '__setattr__', '__sizeof__', '__str__', '__subclasshook__', '__weakref__', '_chunk', '_comments_by_id', '_fetch', '_fetched', '_flair', '_info_params', '_info_path', '_mod', '_reddit', '_reset_attributes', '_safely_add_arguments', '_url_parts', '_vote', 'approved_at_utc', 'approved_by', 'archived', 'author', 'author_flair_background_color', 'author_flair_css_class', 'author_flair_richtext', 'author_flair_template_id', 'author_flair_text', 'author_flair_text_color', 'author_flair_type', 'author_id', 'banned_at_utc', 'banned_by', 'can_gild', 'can_mod_post', 'category', 'clear_vote', 'clicked', 'comment_limit', 'comment_sort', 'comments', 'content_categories', 'contest_mode', 'created', 'created_utc', 'crosspost', 'delete', 'disable_inbox_replies', 'distinguished', 'domain', 'downs', 'downvote', 'duplicates', 'edit', 'edited', 'enable_inbox_replies', 'flair', 'fullname', 'gild', 'gilded', 'hidden', 'hide', 'hide_score', 'id', 'id_from_url', 'is_crosspostable', 'is_original_content', 'is_reddit_media_domain', 'is_self', 'is_video', 'likes', 'link_flair_css_class', 'link_flair_richtext', 'link_flair_text', 'link_flair_text_color', 'link_flair_type', 'locked', 'media', 'media_embed', 'media_only', 'mod', 'mod_note', 'mod_reason_by', 'mod_reason_title', 'mod_reports', 'name', 'no_follow', 'num_comments', 'num_crossposts', 'num_reports', 'over_18', 'parent_whitelist_status', 'parse', 'permalink', 'pinned', 'post_categories', 'pwls', 'quarantine', 'removal_reason', 'reply', 'report', 'report_reasons', 'rte_mode', 'save', 'saved', 'score', 'secure_media', 'secure_media_embed', 'selftext', 'selftext_html', 'send_replies', 'shortlink', 'spoiler', 'stickied', 'subreddit', 'subreddit_id', 'subreddit_name_prefixed', 'subreddit_subscribers', 'subreddit_type', 'suggested_sort', 'thumbnail', 'title', 'unhide', 'unsave', 'ups', 'upvote', 'url', 'user_reports', 'view_count', 'visited', 'whitelist_status', 'wls']\n",
      "['STR_FIELD', '__class__', '__delattr__', '__dict__', '__dir__', '__doc__', '__eq__', '__format__', '__ge__', '__getattr__', '__getattribute__', '__gt__', '__hash__', '__init__', '__init_subclass__', '__le__', '__lt__', '__module__', '__ne__', '__new__', '__reduce__', '__reduce_ex__', '__repr__', '__setattr__', '__sizeof__', '__str__', '__subclasshook__', '__weakref__', '_chunk', '_comments_by_id', '_fetch', '_fetched', '_flair', '_info_params', '_info_path', '_mod', '_reddit', '_reset_attributes', '_safely_add_arguments', '_url_parts', '_vote', 'approved_at_utc', 'approved_by', 'archived', 'author', 'author_flair_background_color', 'author_flair_css_class', 'author_flair_richtext', 'author_flair_template_id', 'author_flair_text', 'author_flair_text_color', 'author_flair_type', 'author_id', 'banned_at_utc', 'banned_by', 'can_gild', 'can_mod_post', 'category', 'clear_vote', 'clicked', 'comment_limit', 'comment_sort', 'comments', 'content_categories', 'contest_mode', 'created', 'created_utc', 'crosspost', 'delete', 'disable_inbox_replies', 'distinguished', 'domain', 'downs', 'downvote', 'duplicates', 'edit', 'edited', 'enable_inbox_replies', 'flair', 'fullname', 'gild', 'gilded', 'hidden', 'hide', 'hide_score', 'id', 'id_from_url', 'is_crosspostable', 'is_original_content', 'is_reddit_media_domain', 'is_self', 'is_video', 'likes', 'link_flair_background_color', 'link_flair_css_class', 'link_flair_richtext', 'link_flair_template_id', 'link_flair_text', 'link_flair_text_color', 'link_flair_type', 'locked', 'media', 'media_embed', 'media_only', 'mod', 'mod_note', 'mod_reason_by', 'mod_reason_title', 'mod_reports', 'name', 'no_follow', 'num_comments', 'num_crossposts', 'num_reports', 'over_18', 'parent_whitelist_status', 'parse', 'permalink', 'pinned', 'post_categories', 'pwls', 'quarantine', 'removal_reason', 'reply', 'report', 'report_reasons', 'rte_mode', 'save', 'saved', 'score', 'secure_media', 'secure_media_embed', 'selftext', 'selftext_html', 'send_replies', 'shortlink', 'spoiler', 'stickied', 'subreddit', 'subreddit_id', 'subreddit_name_prefixed', 'subreddit_subscribers', 'subreddit_type', 'suggested_sort', 'thumbnail', 'title', 'unhide', 'unsave', 'ups', 'upvote', 'url', 'user_reports', 'view_count', 'visited', 'whitelist_status', 'wls']\n",
      "['STR_FIELD', '__class__', '__delattr__', '__dict__', '__dir__', '__doc__', '__eq__', '__format__', '__ge__', '__getattr__', '__getattribute__', '__gt__', '__hash__', '__init__', '__init_subclass__', '__le__', '__lt__', '__module__', '__ne__', '__new__', '__reduce__', '__reduce_ex__', '__repr__', '__setattr__', '__sizeof__', '__str__', '__subclasshook__', '__weakref__', '_chunk', '_comments_by_id', '_fetch', '_fetched', '_flair', '_info_params', '_info_path', '_mod', '_reddit', '_reset_attributes', '_safely_add_arguments', '_url_parts', '_vote', 'approved_at_utc', 'approved_by', 'archived', 'author', 'author_flair_background_color', 'author_flair_css_class', 'author_flair_richtext', 'author_flair_template_id', 'author_flair_text', 'author_flair_text_color', 'author_flair_type', 'author_id', 'banned_at_utc', 'banned_by', 'can_gild', 'can_mod_post', 'category', 'clear_vote', 'clicked', 'comment_limit', 'comment_sort', 'comments', 'content_categories', 'contest_mode', 'created', 'created_utc', 'crosspost', 'delete', 'disable_inbox_replies', 'distinguished', 'domain', 'downs', 'downvote', 'duplicates', 'edit', 'edited', 'enable_inbox_replies', 'flair', 'fullname', 'gild', 'gilded', 'hidden', 'hide', 'hide_score', 'id', 'id_from_url', 'is_crosspostable', 'is_original_content', 'is_reddit_media_domain', 'is_self', 'is_video', 'likes', 'link_flair_css_class', 'link_flair_richtext', 'link_flair_text', 'link_flair_text_color', 'link_flair_type', 'locked', 'media', 'media_embed', 'media_only', 'mod', 'mod_note', 'mod_reason_by', 'mod_reason_title', 'mod_reports', 'name', 'no_follow', 'num_comments', 'num_crossposts', 'num_reports', 'over_18', 'parent_whitelist_status', 'parse', 'permalink', 'pinned', 'post_categories', 'pwls', 'quarantine', 'removal_reason', 'reply', 'report', 'report_reasons', 'rte_mode', 'save', 'saved', 'score', 'secure_media', 'secure_media_embed', 'selftext', 'selftext_html', 'send_replies', 'shortlink', 'spoiler', 'stickied', 'subreddit', 'subreddit_id', 'subreddit_name_prefixed', 'subreddit_subscribers', 'subreddit_type', 'suggested_sort', 'thumbnail', 'title', 'unhide', 'unsave', 'ups', 'upvote', 'url', 'user_reports', 'view_count', 'visited', 'whitelist_status', 'wls']\n",
      "['STR_FIELD', '__class__', '__delattr__', '__dict__', '__dir__', '__doc__', '__eq__', '__format__', '__ge__', '__getattr__', '__getattribute__', '__gt__', '__hash__', '__init__', '__init_subclass__', '__le__', '__lt__', '__module__', '__ne__', '__new__', '__reduce__', '__reduce_ex__', '__repr__', '__setattr__', '__sizeof__', '__str__', '__subclasshook__', '__weakref__', '_chunk', '_comments_by_id', '_fetch', '_fetched', '_flair', '_info_params', '_info_path', '_mod', '_reddit', '_reset_attributes', '_safely_add_arguments', '_url_parts', '_vote', 'approved_at_utc', 'approved_by', 'archived', 'author', 'author_flair_background_color', 'author_flair_css_class', 'author_flair_richtext', 'author_flair_template_id', 'author_flair_text', 'author_flair_text_color', 'author_flair_type', 'author_id', 'banned_at_utc', 'banned_by', 'can_gild', 'can_mod_post', 'category', 'clear_vote', 'clicked', 'comment_limit', 'comment_sort', 'comments', 'content_categories', 'contest_mode', 'created', 'created_utc', 'crosspost', 'delete', 'disable_inbox_replies', 'distinguished', 'domain', 'downs', 'downvote', 'duplicates', 'edit', 'edited', 'enable_inbox_replies', 'flair', 'fullname', 'gild', 'gilded', 'hidden', 'hide', 'hide_score', 'id', 'id_from_url', 'is_crosspostable', 'is_original_content', 'is_reddit_media_domain', 'is_self', 'is_video', 'likes', 'link_flair_css_class', 'link_flair_richtext', 'link_flair_text', 'link_flair_text_color', 'link_flair_type', 'locked', 'media', 'media_embed', 'media_only', 'mod', 'mod_note', 'mod_reason_by', 'mod_reason_title', 'mod_reports', 'name', 'no_follow', 'num_comments', 'num_crossposts', 'num_reports', 'over_18', 'parent_whitelist_status', 'parse', 'permalink', 'pinned', 'post_categories', 'pwls', 'quarantine', 'removal_reason', 'reply', 'report', 'report_reasons', 'rte_mode', 'save', 'saved', 'score', 'secure_media', 'secure_media_embed', 'selftext', 'selftext_html', 'send_replies', 'shortlink', 'spoiler', 'stickied', 'subreddit', 'subreddit_id', 'subreddit_name_prefixed', 'subreddit_subscribers', 'subreddit_type', 'suggested_sort', 'thumbnail', 'title', 'unhide', 'unsave', 'ups', 'upvote', 'url', 'user_reports', 'view_count', 'visited', 'whitelist_status', 'wls']\n",
      "['STR_FIELD', '__class__', '__delattr__', '__dict__', '__dir__', '__doc__', '__eq__', '__format__', '__ge__', '__getattr__', '__getattribute__', '__gt__', '__hash__', '__init__', '__init_subclass__', '__le__', '__lt__', '__module__', '__ne__', '__new__', '__reduce__', '__reduce_ex__', '__repr__', '__setattr__', '__sizeof__', '__str__', '__subclasshook__', '__weakref__', '_chunk', '_comments_by_id', '_fetch', '_fetched', '_flair', '_info_params', '_info_path', '_mod', '_reddit', '_reset_attributes', '_safely_add_arguments', '_url_parts', '_vote', 'approved_at_utc', 'approved_by', 'archived', 'author', 'author_flair_background_color', 'author_flair_css_class', 'author_flair_richtext', 'author_flair_template_id', 'author_flair_text', 'author_flair_text_color', 'author_flair_type', 'author_id', 'banned_at_utc', 'banned_by', 'can_gild', 'can_mod_post', 'category', 'clear_vote', 'clicked', 'comment_limit', 'comment_sort', 'comments', 'content_categories', 'contest_mode', 'created', 'created_utc', 'crosspost', 'delete', 'disable_inbox_replies', 'distinguished', 'domain', 'downs', 'downvote', 'duplicates', 'edit', 'edited', 'enable_inbox_replies', 'flair', 'fullname', 'gild', 'gilded', 'hidden', 'hide', 'hide_score', 'id', 'id_from_url', 'is_crosspostable', 'is_original_content', 'is_reddit_media_domain', 'is_self', 'is_video', 'likes', 'link_flair_css_class', 'link_flair_richtext', 'link_flair_text', 'link_flair_text_color', 'link_flair_type', 'locked', 'media', 'media_embed', 'media_only', 'mod', 'mod_note', 'mod_reason_by', 'mod_reason_title', 'mod_reports', 'name', 'no_follow', 'num_comments', 'num_crossposts', 'num_reports', 'over_18', 'parent_whitelist_status', 'parse', 'permalink', 'pinned', 'post_categories', 'pwls', 'quarantine', 'removal_reason', 'reply', 'report', 'report_reasons', 'rte_mode', 'save', 'saved', 'score', 'secure_media', 'secure_media_embed', 'selftext', 'selftext_html', 'send_replies', 'shortlink', 'spoiler', 'stickied', 'subreddit', 'subreddit_id', 'subreddit_name_prefixed', 'subreddit_subscribers', 'subreddit_type', 'suggested_sort', 'thumbnail', 'title', 'unhide', 'unsave', 'ups', 'upvote', 'url', 'user_reports', 'view_count', 'visited', 'whitelist_status', 'wls']\n",
      "['STR_FIELD', '__class__', '__delattr__', '__dict__', '__dir__', '__doc__', '__eq__', '__format__', '__ge__', '__getattr__', '__getattribute__', '__gt__', '__hash__', '__init__', '__init_subclass__', '__le__', '__lt__', '__module__', '__ne__', '__new__', '__reduce__', '__reduce_ex__', '__repr__', '__setattr__', '__sizeof__', '__str__', '__subclasshook__', '__weakref__', '_chunk', '_comments_by_id', '_fetch', '_fetched', '_flair', '_info_params', '_info_path', '_mod', '_reddit', '_reset_attributes', '_safely_add_arguments', '_url_parts', '_vote', 'approved_at_utc', 'approved_by', 'archived', 'author', 'author_flair_background_color', 'author_flair_css_class', 'author_flair_richtext', 'author_flair_template_id', 'author_flair_text', 'author_flair_text_color', 'author_flair_type', 'author_id', 'banned_at_utc', 'banned_by', 'can_gild', 'can_mod_post', 'category', 'clear_vote', 'clicked', 'comment_limit', 'comment_sort', 'comments', 'content_categories', 'contest_mode', 'created', 'created_utc', 'crosspost', 'delete', 'disable_inbox_replies', 'distinguished', 'domain', 'downs', 'downvote', 'duplicates', 'edit', 'edited', 'enable_inbox_replies', 'flair', 'fullname', 'gild', 'gilded', 'hidden', 'hide', 'hide_score', 'id', 'id_from_url', 'is_crosspostable', 'is_original_content', 'is_reddit_media_domain', 'is_self', 'is_video', 'likes', 'link_flair_css_class', 'link_flair_richtext', 'link_flair_text', 'link_flair_text_color', 'link_flair_type', 'locked', 'media', 'media_embed', 'media_only', 'mod', 'mod_note', 'mod_reason_by', 'mod_reason_title', 'mod_reports', 'name', 'no_follow', 'num_comments', 'num_crossposts', 'num_reports', 'over_18', 'parent_whitelist_status', 'parse', 'permalink', 'pinned', 'post_categories', 'pwls', 'quarantine', 'removal_reason', 'reply', 'report', 'report_reasons', 'rte_mode', 'save', 'saved', 'score', 'secure_media', 'secure_media_embed', 'selftext', 'selftext_html', 'send_replies', 'shortlink', 'spoiler', 'stickied', 'subreddit', 'subreddit_id', 'subreddit_name_prefixed', 'subreddit_subscribers', 'subreddit_type', 'suggested_sort', 'thumbnail', 'title', 'unhide', 'unsave', 'ups', 'upvote', 'url', 'user_reports', 'view_count', 'visited', 'whitelist_status', 'wls']\n",
      "['STR_FIELD', '__class__', '__delattr__', '__dict__', '__dir__', '__doc__', '__eq__', '__format__', '__ge__', '__getattr__', '__getattribute__', '__gt__', '__hash__', '__init__', '__init_subclass__', '__le__', '__lt__', '__module__', '__ne__', '__new__', '__reduce__', '__reduce_ex__', '__repr__', '__setattr__', '__sizeof__', '__str__', '__subclasshook__', '__weakref__', '_chunk', '_comments_by_id', '_fetch', '_fetched', '_flair', '_info_params', '_info_path', '_mod', '_reddit', '_reset_attributes', '_safely_add_arguments', '_url_parts', '_vote', 'approved_at_utc', 'approved_by', 'archived', 'author', 'author_flair_background_color', 'author_flair_css_class', 'author_flair_richtext', 'author_flair_template_id', 'author_flair_text', 'author_flair_text_color', 'author_flair_type', 'author_id', 'banned_at_utc', 'banned_by', 'can_gild', 'can_mod_post', 'category', 'clear_vote', 'clicked', 'comment_limit', 'comment_sort', 'comments', 'content_categories', 'contest_mode', 'created', 'created_utc', 'crosspost', 'delete', 'disable_inbox_replies', 'distinguished', 'domain', 'downs', 'downvote', 'duplicates', 'edit', 'edited', 'enable_inbox_replies', 'flair', 'fullname', 'gild', 'gilded', 'hidden', 'hide', 'hide_score', 'id', 'id_from_url', 'is_crosspostable', 'is_original_content', 'is_reddit_media_domain', 'is_self', 'is_video', 'likes', 'link_flair_css_class', 'link_flair_richtext', 'link_flair_text', 'link_flair_text_color', 'link_flair_type', 'locked', 'media', 'media_embed', 'media_only', 'mod', 'mod_note', 'mod_reason_by', 'mod_reason_title', 'mod_reports', 'name', 'no_follow', 'num_comments', 'num_crossposts', 'num_reports', 'over_18', 'parent_whitelist_status', 'parse', 'permalink', 'pinned', 'post_categories', 'pwls', 'quarantine', 'removal_reason', 'reply', 'report', 'report_reasons', 'rte_mode', 'save', 'saved', 'score', 'secure_media', 'secure_media_embed', 'selftext', 'selftext_html', 'send_replies', 'shortlink', 'spoiler', 'stickied', 'subreddit', 'subreddit_id', 'subreddit_name_prefixed', 'subreddit_subscribers', 'subreddit_type', 'suggested_sort', 'thumbnail', 'title', 'unhide', 'unsave', 'ups', 'upvote', 'url', 'user_reports', 'view_count', 'visited', 'whitelist_status', 'wls']\n",
      "['STR_FIELD', '__class__', '__delattr__', '__dict__', '__dir__', '__doc__', '__eq__', '__format__', '__ge__', '__getattr__', '__getattribute__', '__gt__', '__hash__', '__init__', '__init_subclass__', '__le__', '__lt__', '__module__', '__ne__', '__new__', '__reduce__', '__reduce_ex__', '__repr__', '__setattr__', '__sizeof__', '__str__', '__subclasshook__', '__weakref__', '_chunk', '_comments_by_id', '_fetch', '_fetched', '_flair', '_info_params', '_info_path', '_mod', '_reddit', '_reset_attributes', '_safely_add_arguments', '_url_parts', '_vote', 'approved_at_utc', 'approved_by', 'archived', 'author', 'author_flair_background_color', 'author_flair_css_class', 'author_flair_richtext', 'author_flair_template_id', 'author_flair_text', 'author_flair_text_color', 'author_flair_type', 'author_id', 'banned_at_utc', 'banned_by', 'can_gild', 'can_mod_post', 'category', 'clear_vote', 'clicked', 'comment_limit', 'comment_sort', 'comments', 'content_categories', 'contest_mode', 'created', 'created_utc', 'crosspost', 'delete', 'disable_inbox_replies', 'distinguished', 'domain', 'downs', 'downvote', 'duplicates', 'edit', 'edited', 'enable_inbox_replies', 'flair', 'fullname', 'gild', 'gilded', 'hidden', 'hide', 'hide_score', 'id', 'id_from_url', 'is_crosspostable', 'is_original_content', 'is_reddit_media_domain', 'is_self', 'is_video', 'likes', 'link_flair_css_class', 'link_flair_richtext', 'link_flair_text', 'link_flair_text_color', 'link_flair_type', 'locked', 'media', 'media_embed', 'media_only', 'mod', 'mod_note', 'mod_reason_by', 'mod_reason_title', 'mod_reports', 'name', 'no_follow', 'num_comments', 'num_crossposts', 'num_reports', 'over_18', 'parent_whitelist_status', 'parse', 'permalink', 'pinned', 'post_categories', 'pwls', 'quarantine', 'removal_reason', 'reply', 'report', 'report_reasons', 'rte_mode', 'save', 'saved', 'score', 'secure_media', 'secure_media_embed', 'selftext', 'selftext_html', 'send_replies', 'shortlink', 'spoiler', 'stickied', 'subreddit', 'subreddit_id', 'subreddit_name_prefixed', 'subreddit_subscribers', 'subreddit_type', 'suggested_sort', 'thumbnail', 'title', 'unhide', 'unsave', 'ups', 'upvote', 'url', 'user_reports', 'view_count', 'visited', 'whitelist_status', 'wls']\n",
      "['STR_FIELD', '__class__', '__delattr__', '__dict__', '__dir__', '__doc__', '__eq__', '__format__', '__ge__', '__getattr__', '__getattribute__', '__gt__', '__hash__', '__init__', '__init_subclass__', '__le__', '__lt__', '__module__', '__ne__', '__new__', '__reduce__', '__reduce_ex__', '__repr__', '__setattr__', '__sizeof__', '__str__', '__subclasshook__', '__weakref__', '_chunk', '_comments_by_id', '_fetch', '_fetched', '_flair', '_info_params', '_info_path', '_mod', '_reddit', '_reset_attributes', '_safely_add_arguments', '_url_parts', '_vote', 'approved_at_utc', 'approved_by', 'archived', 'author', 'author_flair_background_color', 'author_flair_css_class', 'author_flair_richtext', 'author_flair_template_id', 'author_flair_text', 'author_flair_text_color', 'author_flair_type', 'author_id', 'banned_at_utc', 'banned_by', 'can_gild', 'can_mod_post', 'category', 'clear_vote', 'clicked', 'comment_limit', 'comment_sort', 'comments', 'content_categories', 'contest_mode', 'created', 'created_utc', 'crosspost', 'delete', 'disable_inbox_replies', 'distinguished', 'domain', 'downs', 'downvote', 'duplicates', 'edit', 'edited', 'enable_inbox_replies', 'flair', 'fullname', 'gild', 'gilded', 'hidden', 'hide', 'hide_score', 'id', 'id_from_url', 'is_crosspostable', 'is_original_content', 'is_reddit_media_domain', 'is_self', 'is_video', 'likes', 'link_flair_css_class', 'link_flair_richtext', 'link_flair_text', 'link_flair_text_color', 'link_flair_type', 'locked', 'media', 'media_embed', 'media_only', 'mod', 'mod_note', 'mod_reason_by', 'mod_reason_title', 'mod_reports', 'name', 'no_follow', 'num_comments', 'num_crossposts', 'num_reports', 'over_18', 'parent_whitelist_status', 'parse', 'permalink', 'pinned', 'post_categories', 'pwls', 'quarantine', 'removal_reason', 'reply', 'report', 'report_reasons', 'rte_mode', 'save', 'saved', 'score', 'secure_media', 'secure_media_embed', 'selftext', 'selftext_html', 'send_replies', 'shortlink', 'spoiler', 'stickied', 'subreddit', 'subreddit_id', 'subreddit_name_prefixed', 'subreddit_subscribers', 'subreddit_type', 'suggested_sort', 'thumbnail', 'title', 'unhide', 'unsave', 'ups', 'upvote', 'url', 'user_reports', 'view_count', 'visited', 'whitelist_status', 'wls']\n"
     ]
    }
   ],
   "source": [
    "# imported praw for cleaning purposes\n",
    "# created instance for reddit\n",
    "# pulling attributes\n",
    "\n",
    "import praw\n",
    "reddit = praw.Reddit(client_id='PzTTVerHRivt8g', \n",
    "                     client_secret=\"1LnaL_AwwjQPp3SlATzAHBN1NfE\",\n",
    "                     password='Kingvzw100$', \n",
    "                     user_agent='Projet 3sam',\n",
    "                     username='HPatterson4')\n",
    "\n",
    "# pulling attributes\n",
    "subreddit = reddit.subreddit('python')\n",
    "hot_python = subreddit.hot(limit = 10)\n",
    "for submission in hot_python:\n",
    "    print(dir(submission))"
   ]
  },
  {
   "cell_type": "code",
   "execution_count": 22,
   "metadata": {},
   "outputs": [
    {
     "name": "stdout",
     "output_type": "stream",
     "text": [
      "https://www.reddit.com/r/Python/comments/8bx6md/rpython_official_job_board/\n",
      "https://www.reddit.com/r/Python/comments/8xpgyu/whats_everyone_working_on_this_week/\n",
      "https://www.reddit.com/r/Python/comments/8z0pxo/suggestion_remove_codingbat_from_side_bar/\n",
      "https://github.com/alexmojaki/sorcery\n",
      "https://youtu.be/_w3a1ledmVE\n"
     ]
    }
   ],
   "source": [
    "subreddit = reddit.subreddit('python')\n",
    "hot_python = subreddit.hot(limit = 5)\n",
    "for submission in hot_python:\n",
    "    print(submission.url)"
   ]
  },
  {
   "cell_type": "code",
   "execution_count": 23,
   "metadata": {},
   "outputs": [
    {
     "name": "stdout",
     "output_type": "stream",
     "text": [
      "116\n",
      "22\n",
      "306\n",
      "20\n",
      "10\n"
     ]
    }
   ],
   "source": [
    "subreddit = reddit.subreddit('python')\n",
    "hot_python = subreddit.hot(limit = 5)\n",
    "for submission in hot_python:\n",
    "    print(submission.ups)"
   ]
  },
  {
   "cell_type": "code",
   "execution_count": 24,
   "metadata": {},
   "outputs": [
    {
     "name": "stdout",
     "output_type": "stream",
     "text": [
      "r/Python Official Job Board\n",
      "What's everyone working on this week?\n",
      "Suggestion: Remove CodingBat from side bar\n",
      "sorcery: Dark magic delights in Python\n",
      "Understanding Python Bytecode | PyCon 2018\n"
     ]
    }
   ],
   "source": [
    "subreddit = reddit.subreddit('python')\n",
    "hot_python = subreddit.hot(limit = 5)\n",
    "for submission in hot_python:\n",
    "    print(submission.title)"
   ]
  },
  {
   "cell_type": "code",
   "execution_count": 31,
   "metadata": {
    "scrolled": true
   },
   "outputs": [],
   "source": [
    "# Set a variable equal to the target subreddit\n",
    "r_all = reddit.subreddit('all')\n",
    "\n",
    "\n",
    "# Grab submissions from the subreddit\n",
    "subs = []\n",
    "for sub in r_all.hot(limit=1000):\n",
    "    sub_dict = {}\n",
    "    sub_dict['submissions'] = sub\n",
    "    subs.append(sub_dict)\n",
    "subscrape = pd.DataFrame(subs)\n",
    "subscrape.shape, subscrape.head()\n",
    "\n",
    "# Save submission pull to csv\n",
    "subscrape.to_csv(\"sub_redd.csv\")\n",
    "\n",
    "# Grab features from the submission IDs\n",
    "sublist = []\n",
    "for c in subscrape['submissions']:\n",
    "    subdict = {}\n",
    "    subdict['title'] = c.title\n",
    "    subdict['comments'] = c.num_comments\n",
    "    subdict['subreddit'] = c.subreddit\n",
    "    subdict['created'] = c.created\n",
    "    subdict['ups'] = c.ups\n",
    "    subdict['URL'] = c.url\n",
    "    sublist.append(subdict)\n",
    "time.sleep(1)"
   ]
  },
  {
   "cell_type": "code",
   "execution_count": 32,
   "metadata": {},
   "outputs": [],
   "source": [
    "# create dataframe\n",
    "reddit_final = pd.DataFrame(sublist)"
   ]
  },
  {
   "cell_type": "code",
   "execution_count": 33,
   "metadata": {},
   "outputs": [
    {
     "data": {
      "text/html": [
       "<div>\n",
       "<style scoped>\n",
       "    .dataframe tbody tr th:only-of-type {\n",
       "        vertical-align: middle;\n",
       "    }\n",
       "\n",
       "    .dataframe tbody tr th {\n",
       "        vertical-align: top;\n",
       "    }\n",
       "\n",
       "    .dataframe thead th {\n",
       "        text-align: right;\n",
       "    }\n",
       "</style>\n",
       "<table border=\"1\" class=\"dataframe\">\n",
       "  <thead>\n",
       "    <tr style=\"text-align: right;\">\n",
       "      <th></th>\n",
       "      <th>URL</th>\n",
       "      <th>comments</th>\n",
       "      <th>created</th>\n",
       "      <th>subreddit</th>\n",
       "      <th>title</th>\n",
       "      <th>ups</th>\n",
       "    </tr>\n",
       "  </thead>\n",
       "  <tbody>\n",
       "    <tr>\n",
       "      <th>0</th>\n",
       "      <td>http://www.thesmokinggun.com//documents/celebr...</td>\n",
       "      <td>1387</td>\n",
       "      <td>1.531709e+09</td>\n",
       "      <td>todayilearned</td>\n",
       "      <td>TIL Madonna leaked a fake version of her album...</td>\n",
       "      <td>29588</td>\n",
       "    </tr>\n",
       "    <tr>\n",
       "      <th>1</th>\n",
       "      <td>https://i.redd.it/5rbdwrt4n5a11.jpg</td>\n",
       "      <td>281</td>\n",
       "      <td>1.531708e+09</td>\n",
       "      <td>aww</td>\n",
       "      <td>I haven’t met my new neighbor yet, but her dog...</td>\n",
       "      <td>36194</td>\n",
       "    </tr>\n",
       "    <tr>\n",
       "      <th>2</th>\n",
       "      <td>https://i.redd.it/jvkk2xwhf5a11.jpg</td>\n",
       "      <td>652</td>\n",
       "      <td>1.531705e+09</td>\n",
       "      <td>pcmasterrace</td>\n",
       "      <td>this is kinda true</td>\n",
       "      <td>23399</td>\n",
       "    </tr>\n",
       "    <tr>\n",
       "      <th>3</th>\n",
       "      <td>https://i.redd.it/j0642xwgc5a11.jpg</td>\n",
       "      <td>272</td>\n",
       "      <td>1.531704e+09</td>\n",
       "      <td>BikiniBottomTwitter</td>\n",
       "      <td>Dennis has a son</td>\n",
       "      <td>21195</td>\n",
       "    </tr>\n",
       "    <tr>\n",
       "      <th>4</th>\n",
       "      <td>https://twitter.com/FIFAWorldCup/status/101854...</td>\n",
       "      <td>1179</td>\n",
       "      <td>1.531704e+09</td>\n",
       "      <td>soccer</td>\n",
       "      <td>Luka Modrić wins the 2018 World Cup Golden Ball</td>\n",
       "      <td>11031</td>\n",
       "    </tr>\n",
       "    <tr>\n",
       "      <th>5</th>\n",
       "      <td>https://i.redd.it/7x4nu2lg85a11.jpg</td>\n",
       "      <td>442</td>\n",
       "      <td>1.531704e+09</td>\n",
       "      <td>Art</td>\n",
       "      <td>Beautiful Bismuth, Digital, 2000x2500px</td>\n",
       "      <td>24313</td>\n",
       "    </tr>\n",
       "    <tr>\n",
       "      <th>6</th>\n",
       "      <td>https://io9.gizmodo.com/bogus-production-probl...</td>\n",
       "      <td>1155</td>\n",
       "      <td>1.531702e+09</td>\n",
       "      <td>movies</td>\n",
       "      <td>Keanu Reeves' 'Bill &amp; Ted 3' Facing Production...</td>\n",
       "      <td>21584</td>\n",
       "    </tr>\n",
       "    <tr>\n",
       "      <th>7</th>\n",
       "      <td>https://i.redd.it/xxd907ut95a11.jpg</td>\n",
       "      <td>2263</td>\n",
       "      <td>1.531704e+09</td>\n",
       "      <td>pics</td>\n",
       "      <td>French President celebrates during the final !</td>\n",
       "      <td>81717</td>\n",
       "    </tr>\n",
       "    <tr>\n",
       "      <th>8</th>\n",
       "      <td>https://i.redd.it/8jhk1xoo95a11.jpg</td>\n",
       "      <td>244</td>\n",
       "      <td>1.531704e+09</td>\n",
       "      <td>natureismetal</td>\n",
       "      <td>This sick washed up gar skeleton I found.</td>\n",
       "      <td>14233</td>\n",
       "    </tr>\n",
       "    <tr>\n",
       "      <th>9</th>\n",
       "      <td>https://i.redd.it/h25aj9lpa5a11.jpg</td>\n",
       "      <td>841</td>\n",
       "      <td>1.531704e+09</td>\n",
       "      <td>photoshopbattles</td>\n",
       "      <td>PsBattle: French President celebrating</td>\n",
       "      <td>45013</td>\n",
       "    </tr>\n",
       "    <tr>\n",
       "      <th>10</th>\n",
       "      <td>https://i.redd.it/y5905qqq35a11.gif</td>\n",
       "      <td>516</td>\n",
       "      <td>1.531702e+09</td>\n",
       "      <td>instant_regret</td>\n",
       "      <td>Well that sucks</td>\n",
       "      <td>23090</td>\n",
       "    </tr>\n",
       "    <tr>\n",
       "      <th>11</th>\n",
       "      <td>https://i.redd.it/8um6xw6pd5a11.png</td>\n",
       "      <td>393</td>\n",
       "      <td>1.531705e+09</td>\n",
       "      <td>ScottishPeopleTwitter</td>\n",
       "      <td>Ye nugget</td>\n",
       "      <td>10856</td>\n",
       "    </tr>\n",
       "    <tr>\n",
       "      <th>12</th>\n",
       "      <td>https://i.redd.it/as2c5emk05a11.jpg</td>\n",
       "      <td>349</td>\n",
       "      <td>1.531700e+09</td>\n",
       "      <td>mildlyinteresting</td>\n",
       "      <td>This flower looks like deep space.</td>\n",
       "      <td>49156</td>\n",
       "    </tr>\n",
       "    <tr>\n",
       "      <th>13</th>\n",
       "      <td>https://i.imgur.com/UercjRt.gifv</td>\n",
       "      <td>258</td>\n",
       "      <td>1.531701e+09</td>\n",
       "      <td>BeAmazed</td>\n",
       "      <td>Tree trunk carving</td>\n",
       "      <td>20667</td>\n",
       "    </tr>\n",
       "    <tr>\n",
       "      <th>14</th>\n",
       "      <td>https://gfycat.com/ElegantImpressionableBluemo...</td>\n",
       "      <td>423</td>\n",
       "      <td>1.531699e+09</td>\n",
       "      <td>funny</td>\n",
       "      <td>My people need me!</td>\n",
       "      <td>40026</td>\n",
       "    </tr>\n",
       "    <tr>\n",
       "      <th>15</th>\n",
       "      <td>https://i.redd.it/t8mnlvc765a11.jpg</td>\n",
       "      <td>63</td>\n",
       "      <td>1.531702e+09</td>\n",
       "      <td>futurama</td>\n",
       "      <td>Priorities</td>\n",
       "      <td>11292</td>\n",
       "    </tr>\n",
       "    <tr>\n",
       "      <th>16</th>\n",
       "      <td>https://www.youtube.com/watch?v=xsg1RPnwH8g</td>\n",
       "      <td>150</td>\n",
       "      <td>1.531710e+09</td>\n",
       "      <td>videos</td>\n",
       "      <td>How Christopher Walken says Foo Fighters</td>\n",
       "      <td>4676</td>\n",
       "    </tr>\n",
       "    <tr>\n",
       "      <th>17</th>\n",
       "      <td>https://i.redd.it/kk690aiq35a11.png</td>\n",
       "      <td>328</td>\n",
       "      <td>1.531702e+09</td>\n",
       "      <td>europe</td>\n",
       "      <td>Congrats France!</td>\n",
       "      <td>11511</td>\n",
       "    </tr>\n",
       "    <tr>\n",
       "      <th>18</th>\n",
       "      <td>https://i.redd.it/grpwbzvri5a11.jpg</td>\n",
       "      <td>1715</td>\n",
       "      <td>1.531707e+09</td>\n",
       "      <td>gaming</td>\n",
       "      <td>Have to scoff at people saying AAA games aren'...</td>\n",
       "      <td>31005</td>\n",
       "    </tr>\n",
       "    <tr>\n",
       "      <th>19</th>\n",
       "      <td>https://v.redd.it/bpqyl8s8x4a11</td>\n",
       "      <td>265</td>\n",
       "      <td>1.531699e+09</td>\n",
       "      <td>SweatyPalms</td>\n",
       "      <td>That jump 😬</td>\n",
       "      <td>17046</td>\n",
       "    </tr>\n",
       "    <tr>\n",
       "      <th>20</th>\n",
       "      <td>https://i.redd.it/t8gnwkv7r4a11.jpg</td>\n",
       "      <td>207</td>\n",
       "      <td>1.531697e+09</td>\n",
       "      <td>facepalm</td>\n",
       "      <td>So close to being meaningful and inspiring...</td>\n",
       "      <td>32381</td>\n",
       "    </tr>\n",
       "    <tr>\n",
       "      <th>21</th>\n",
       "      <td>https://i.redditmedia.com/Tve27nq2zmlXaTbUh5N3...</td>\n",
       "      <td>254</td>\n",
       "      <td>1.531698e+09</td>\n",
       "      <td>interestingasfuck</td>\n",
       "      <td>Due to the shutter speed, the wings of this li...</td>\n",
       "      <td>24563</td>\n",
       "    </tr>\n",
       "    <tr>\n",
       "      <th>22</th>\n",
       "      <td>https://www.cbsnews.com/news/donald-trump-inte...</td>\n",
       "      <td>3872</td>\n",
       "      <td>1.531694e+09</td>\n",
       "      <td>politics</td>\n",
       "      <td>\"I think the European Union is a foe,\" Trump s...</td>\n",
       "      <td>34654</td>\n",
       "    </tr>\n",
       "    <tr>\n",
       "      <th>23</th>\n",
       "      <td>https://i.redd.it/1xea1j55r4a11.jpg</td>\n",
       "      <td>255</td>\n",
       "      <td>1.531697e+09</td>\n",
       "      <td>wholesomememes</td>\n",
       "      <td>Simple but true</td>\n",
       "      <td>16585</td>\n",
       "    </tr>\n",
       "    <tr>\n",
       "      <th>24</th>\n",
       "      <td>https://www.independent.co.uk/news/world/asia/...</td>\n",
       "      <td>8918</td>\n",
       "      <td>1.531698e+09</td>\n",
       "      <td>news</td>\n",
       "      <td>Elon Musk calls British diver who helped rescu...</td>\n",
       "      <td>32413</td>\n",
       "    </tr>\n",
       "    <tr>\n",
       "      <th>25</th>\n",
       "      <td>http://i.imgur.com/H72EIKt.gifv</td>\n",
       "      <td>348</td>\n",
       "      <td>1.531694e+09</td>\n",
       "      <td>PandR</td>\n",
       "      <td>\"Only Speak If It Improves Upon The Silence\"</td>\n",
       "      <td>28889</td>\n",
       "    </tr>\n",
       "    <tr>\n",
       "      <th>26</th>\n",
       "      <td>https://gfycat.com/spanisheverlastingdiamondba...</td>\n",
       "      <td>288</td>\n",
       "      <td>1.531701e+09</td>\n",
       "      <td>BetterEveryLoop</td>\n",
       "      <td>She's downing a beer with no hands</td>\n",
       "      <td>9718</td>\n",
       "    </tr>\n",
       "    <tr>\n",
       "      <th>27</th>\n",
       "      <td>https://i.redd.it/ljjde45xr4a11.jpg</td>\n",
       "      <td>363</td>\n",
       "      <td>1.531698e+09</td>\n",
       "      <td>Tinder</td>\n",
       "      <td>I feel like this is maybe one of those people ...</td>\n",
       "      <td>12454</td>\n",
       "    </tr>\n",
       "    <tr>\n",
       "      <th>28</th>\n",
       "      <td>https://i.redd.it/wzd8bhf375a11.jpg</td>\n",
       "      <td>64</td>\n",
       "      <td>1.531703e+09</td>\n",
       "      <td>AteTheOnion</td>\n",
       "      <td>Dear old Sarah here has some interesting opini...</td>\n",
       "      <td>6717</td>\n",
       "    </tr>\n",
       "    <tr>\n",
       "      <th>29</th>\n",
       "      <td>https://www.cbsnews.com/news/donald-trump-inte...</td>\n",
       "      <td>3764</td>\n",
       "      <td>1.531694e+09</td>\n",
       "      <td>worldnews</td>\n",
       "      <td>Trump, in interview with CBS News, says \"I thi...</td>\n",
       "      <td>31797</td>\n",
       "    </tr>\n",
       "    <tr>\n",
       "      <th>...</th>\n",
       "      <td>...</td>\n",
       "      <td>...</td>\n",
       "      <td>...</td>\n",
       "      <td>...</td>\n",
       "      <td>...</td>\n",
       "      <td>...</td>\n",
       "    </tr>\n",
       "    <tr>\n",
       "      <th>970</th>\n",
       "      <td>https://i.redd.it/5esdmqavv4a11.jpg</td>\n",
       "      <td>20</td>\n",
       "      <td>1.531699e+09</td>\n",
       "      <td>Tinder</td>\n",
       "      <td>Her bio said I have to have a dog.</td>\n",
       "      <td>1022</td>\n",
       "    </tr>\n",
       "    <tr>\n",
       "      <th>971</th>\n",
       "      <td>https://streamable.com/gwl46</td>\n",
       "      <td>32</td>\n",
       "      <td>1.531698e+09</td>\n",
       "      <td>bostonceltics</td>\n",
       "      <td>Tatum going 1 on 1 w/LeBron at his offseason w...</td>\n",
       "      <td>390</td>\n",
       "    </tr>\n",
       "    <tr>\n",
       "      <th>972</th>\n",
       "      <td>https://i.imgur.com/ZSCYhLp.jpg</td>\n",
       "      <td>9</td>\n",
       "      <td>1.531701e+09</td>\n",
       "      <td>gentlemanboners</td>\n",
       "      <td>Emma Watson</td>\n",
       "      <td>536</td>\n",
       "    </tr>\n",
       "    <tr>\n",
       "      <th>973</th>\n",
       "      <td>https://i.redd.it/34i229gzy4a11.jpg</td>\n",
       "      <td>8</td>\n",
       "      <td>1.531700e+09</td>\n",
       "      <td>Heavymind</td>\n",
       "      <td>Unnamed by Suguru Tanaka</td>\n",
       "      <td>345</td>\n",
       "    </tr>\n",
       "    <tr>\n",
       "      <th>974</th>\n",
       "      <td>https://i.redd.it/x1g9xejbc4a11.jpg</td>\n",
       "      <td>21</td>\n",
       "      <td>1.531692e+09</td>\n",
       "      <td>cursedimages</td>\n",
       "      <td>cursed_fishtank</td>\n",
       "      <td>517</td>\n",
       "    </tr>\n",
       "    <tr>\n",
       "      <th>975</th>\n",
       "      <td>https://i.redd.it/o34pn73o74a11.jpg</td>\n",
       "      <td>19</td>\n",
       "      <td>1.531691e+09</td>\n",
       "      <td>trailerparkboys</td>\n",
       "      <td>If you love something set it free</td>\n",
       "      <td>553</td>\n",
       "    </tr>\n",
       "    <tr>\n",
       "      <th>976</th>\n",
       "      <td>https://i.redd.it/kuc924yfg5a11.png</td>\n",
       "      <td>16</td>\n",
       "      <td>1.531706e+09</td>\n",
       "      <td>TheSimpsons</td>\n",
       "      <td>I have a problem</td>\n",
       "      <td>430</td>\n",
       "    </tr>\n",
       "    <tr>\n",
       "      <th>977</th>\n",
       "      <td>https://i.imgur.com/s51sbP4.jpg</td>\n",
       "      <td>25</td>\n",
       "      <td>1.531699e+09</td>\n",
       "      <td>Spiderman</td>\n",
       "      <td>Far From Home (ASM #300 homage) by BossLogic</td>\n",
       "      <td>359</td>\n",
       "    </tr>\n",
       "    <tr>\n",
       "      <th>978</th>\n",
       "      <td>https://i.redd.it/6m1gy3ibc5a11.jpg</td>\n",
       "      <td>19</td>\n",
       "      <td>1.531704e+09</td>\n",
       "      <td>tacobell</td>\n",
       "      <td>Crunchy green topping. Anyone remember this?</td>\n",
       "      <td>275</td>\n",
       "    </tr>\n",
       "    <tr>\n",
       "      <th>979</th>\n",
       "      <td>https://i.redd.it/ylyfscsni4a11.jpg</td>\n",
       "      <td>73</td>\n",
       "      <td>1.531694e+09</td>\n",
       "      <td>Warthunder</td>\n",
       "      <td>The Scoreboard Leader vs The Cannon Fodder</td>\n",
       "      <td>467</td>\n",
       "    </tr>\n",
       "    <tr>\n",
       "      <th>980</th>\n",
       "      <td>https://i.redd.it/u82mb2lvh5a11.jpg</td>\n",
       "      <td>9</td>\n",
       "      <td>1.531706e+09</td>\n",
       "      <td>travisscott</td>\n",
       "      <td>The world after Astroworld drops</td>\n",
       "      <td>256</td>\n",
       "    </tr>\n",
       "    <tr>\n",
       "      <th>981</th>\n",
       "      <td>https://i.imgur.com/NZII1Tk.jpg</td>\n",
       "      <td>7</td>\n",
       "      <td>1.531697e+09</td>\n",
       "      <td>hentai_irl</td>\n",
       "      <td>Hentai_irl</td>\n",
       "      <td>395</td>\n",
       "    </tr>\n",
       "    <tr>\n",
       "      <th>982</th>\n",
       "      <td>http://www.fox29.com/sports/world-cup/france-w...</td>\n",
       "      <td>216</td>\n",
       "      <td>1.531703e+09</td>\n",
       "      <td>worldnews</td>\n",
       "      <td>France wins second World Cup title with 4-2 vi...</td>\n",
       "      <td>1396</td>\n",
       "    </tr>\n",
       "    <tr>\n",
       "      <th>983</th>\n",
       "      <td>https://i.redd.it/rb3o20bny3a11.jpg</td>\n",
       "      <td>50</td>\n",
       "      <td>1.531688e+09</td>\n",
       "      <td>drunk</td>\n",
       "      <td>Morning y'all</td>\n",
       "      <td>646</td>\n",
       "    </tr>\n",
       "    <tr>\n",
       "      <th>984</th>\n",
       "      <td>https://i.redd.it/63vwl87pn5a11.png</td>\n",
       "      <td>28</td>\n",
       "      <td>1.531708e+09</td>\n",
       "      <td>Ice_Poseidon</td>\n",
       "      <td>Wait wtf?? This post has been removed from the...</td>\n",
       "      <td>716</td>\n",
       "    </tr>\n",
       "    <tr>\n",
       "      <th>985</th>\n",
       "      <td>https://i.imgur.com/GgURlQ3.jpg</td>\n",
       "      <td>11</td>\n",
       "      <td>1.531705e+09</td>\n",
       "      <td>FGOcomics</td>\n",
       "      <td>2018 World Champs 🇫🇷🏆⚽</td>\n",
       "      <td>270</td>\n",
       "    </tr>\n",
       "    <tr>\n",
       "      <th>986</th>\n",
       "      <td>https://i.redd.it/pcq8r8rzj4a11.png</td>\n",
       "      <td>34</td>\n",
       "      <td>1.531695e+09</td>\n",
       "      <td>inthesoulstone</td>\n",
       "      <td>They're lying to themselves, poor fools</td>\n",
       "      <td>1276</td>\n",
       "    </tr>\n",
       "    <tr>\n",
       "      <th>987</th>\n",
       "      <td>http://i.imgur.com/c0rIyMq.jpg</td>\n",
       "      <td>4</td>\n",
       "      <td>1.531697e+09</td>\n",
       "      <td>realasians</td>\n",
       "      <td>te amo</td>\n",
       "      <td>401</td>\n",
       "    </tr>\n",
       "    <tr>\n",
       "      <th>988</th>\n",
       "      <td>https://i.imgur.com/srfkWHi.jpg</td>\n",
       "      <td>8</td>\n",
       "      <td>1.531682e+09</td>\n",
       "      <td>GirlswithNeonHair</td>\n",
       "      <td>At least it matches my body</td>\n",
       "      <td>847</td>\n",
       "    </tr>\n",
       "    <tr>\n",
       "      <th>989</th>\n",
       "      <td>https://i.redd.it/bi0sh8lq15a11.jpg</td>\n",
       "      <td>27</td>\n",
       "      <td>1.531701e+09</td>\n",
       "      <td>ACPocketCamp</td>\n",
       "      <td>I did a thing!</td>\n",
       "      <td>332</td>\n",
       "    </tr>\n",
       "    <tr>\n",
       "      <th>990</th>\n",
       "      <td>https://twitter.com/elonmusk/status/1018497953...</td>\n",
       "      <td>303</td>\n",
       "      <td>1.531698e+09</td>\n",
       "      <td>JoeRogan</td>\n",
       "      <td>Elon Musk calls the cave diver who criticized ...</td>\n",
       "      <td>388</td>\n",
       "    </tr>\n",
       "    <tr>\n",
       "      <th>991</th>\n",
       "      <td>https://i.redd.it/ub5tq24ki4a11.jpg</td>\n",
       "      <td>13</td>\n",
       "      <td>1.531694e+09</td>\n",
       "      <td>FrankOcean</td>\n",
       "      <td>Shut the fuck up I don't want your conversation.</td>\n",
       "      <td>460</td>\n",
       "    </tr>\n",
       "    <tr>\n",
       "      <th>992</th>\n",
       "      <td>https://i.redd.it/ep0zzwhp35a11.png</td>\n",
       "      <td>25</td>\n",
       "      <td>1.531701e+09</td>\n",
       "      <td>customhearthstone</td>\n",
       "      <td>\"I'll keep your secret\"</td>\n",
       "      <td>317</td>\n",
       "    </tr>\n",
       "    <tr>\n",
       "      <th>993</th>\n",
       "      <td>https://imgur.com/JYWTe8G</td>\n",
       "      <td>95</td>\n",
       "      <td>1.531684e+09</td>\n",
       "      <td>DontFundMe</td>\n",
       "      <td>Couple quits jobs to go convert others to thei...</td>\n",
       "      <td>780</td>\n",
       "    </tr>\n",
       "    <tr>\n",
       "      <th>994</th>\n",
       "      <td>https://i.redd.it/2say5u1745a11.png</td>\n",
       "      <td>9</td>\n",
       "      <td>1.531702e+09</td>\n",
       "      <td>donaldglover</td>\n",
       "      <td>Never ever thought I'd get this close</td>\n",
       "      <td>511</td>\n",
       "    </tr>\n",
       "    <tr>\n",
       "      <th>995</th>\n",
       "      <td>https://i.imgur.com/7zrXb8c.gifv</td>\n",
       "      <td>32</td>\n",
       "      <td>1.531699e+09</td>\n",
       "      <td>Rainbow6</td>\n",
       "      <td>Jackal's ability is superb sometimes</td>\n",
       "      <td>1026</td>\n",
       "    </tr>\n",
       "    <tr>\n",
       "      <th>996</th>\n",
       "      <td>https://gfycat.com/BeneficialNextGnu</td>\n",
       "      <td>52</td>\n",
       "      <td>1.531705e+09</td>\n",
       "      <td>Warframe</td>\n",
       "      <td>Is this Anasa Prime?</td>\n",
       "      <td>433</td>\n",
       "    </tr>\n",
       "    <tr>\n",
       "      <th>997</th>\n",
       "      <td>https://twitter.com/elonmusk/status/1018497953...</td>\n",
       "      <td>498</td>\n",
       "      <td>1.531694e+09</td>\n",
       "      <td>elonmusk</td>\n",
       "      <td>Musk Calls Thai Cave Rescuer \"Pedo\".</td>\n",
       "      <td>447</td>\n",
       "    </tr>\n",
       "    <tr>\n",
       "      <th>998</th>\n",
       "      <td>https://v.redd.it/kd1z0ysxc5a11</td>\n",
       "      <td>15</td>\n",
       "      <td>1.531705e+09</td>\n",
       "      <td>Cinemagraphs</td>\n",
       "      <td>NJ Boardwalk</td>\n",
       "      <td>268</td>\n",
       "    </tr>\n",
       "    <tr>\n",
       "      <th>999</th>\n",
       "      <td>https://i.imgur.com/8ZN0YN0.gifv</td>\n",
       "      <td>290</td>\n",
       "      <td>1.531688e+09</td>\n",
       "      <td>gaming</td>\n",
       "      <td>Greatest gaming moment?</td>\n",
       "      <td>7714</td>\n",
       "    </tr>\n",
       "  </tbody>\n",
       "</table>\n",
       "<p>1000 rows × 6 columns</p>\n",
       "</div>"
      ],
      "text/plain": [
       "                                                   URL  comments  \\\n",
       "0    http://www.thesmokinggun.com//documents/celebr...      1387   \n",
       "1                  https://i.redd.it/5rbdwrt4n5a11.jpg       281   \n",
       "2                  https://i.redd.it/jvkk2xwhf5a11.jpg       652   \n",
       "3                  https://i.redd.it/j0642xwgc5a11.jpg       272   \n",
       "4    https://twitter.com/FIFAWorldCup/status/101854...      1179   \n",
       "5                  https://i.redd.it/7x4nu2lg85a11.jpg       442   \n",
       "6    https://io9.gizmodo.com/bogus-production-probl...      1155   \n",
       "7                  https://i.redd.it/xxd907ut95a11.jpg      2263   \n",
       "8                  https://i.redd.it/8jhk1xoo95a11.jpg       244   \n",
       "9                  https://i.redd.it/h25aj9lpa5a11.jpg       841   \n",
       "10                 https://i.redd.it/y5905qqq35a11.gif       516   \n",
       "11                 https://i.redd.it/8um6xw6pd5a11.png       393   \n",
       "12                 https://i.redd.it/as2c5emk05a11.jpg       349   \n",
       "13                    https://i.imgur.com/UercjRt.gifv       258   \n",
       "14   https://gfycat.com/ElegantImpressionableBluemo...       423   \n",
       "15                 https://i.redd.it/t8mnlvc765a11.jpg        63   \n",
       "16         https://www.youtube.com/watch?v=xsg1RPnwH8g       150   \n",
       "17                 https://i.redd.it/kk690aiq35a11.png       328   \n",
       "18                 https://i.redd.it/grpwbzvri5a11.jpg      1715   \n",
       "19                     https://v.redd.it/bpqyl8s8x4a11       265   \n",
       "20                 https://i.redd.it/t8gnwkv7r4a11.jpg       207   \n",
       "21   https://i.redditmedia.com/Tve27nq2zmlXaTbUh5N3...       254   \n",
       "22   https://www.cbsnews.com/news/donald-trump-inte...      3872   \n",
       "23                 https://i.redd.it/1xea1j55r4a11.jpg       255   \n",
       "24   https://www.independent.co.uk/news/world/asia/...      8918   \n",
       "25                     http://i.imgur.com/H72EIKt.gifv       348   \n",
       "26   https://gfycat.com/spanisheverlastingdiamondba...       288   \n",
       "27                 https://i.redd.it/ljjde45xr4a11.jpg       363   \n",
       "28                 https://i.redd.it/wzd8bhf375a11.jpg        64   \n",
       "29   https://www.cbsnews.com/news/donald-trump-inte...      3764   \n",
       "..                                                 ...       ...   \n",
       "970                https://i.redd.it/5esdmqavv4a11.jpg        20   \n",
       "971                       https://streamable.com/gwl46        32   \n",
       "972                    https://i.imgur.com/ZSCYhLp.jpg         9   \n",
       "973                https://i.redd.it/34i229gzy4a11.jpg         8   \n",
       "974                https://i.redd.it/x1g9xejbc4a11.jpg        21   \n",
       "975                https://i.redd.it/o34pn73o74a11.jpg        19   \n",
       "976                https://i.redd.it/kuc924yfg5a11.png        16   \n",
       "977                    https://i.imgur.com/s51sbP4.jpg        25   \n",
       "978                https://i.redd.it/6m1gy3ibc5a11.jpg        19   \n",
       "979                https://i.redd.it/ylyfscsni4a11.jpg        73   \n",
       "980                https://i.redd.it/u82mb2lvh5a11.jpg         9   \n",
       "981                    https://i.imgur.com/NZII1Tk.jpg         7   \n",
       "982  http://www.fox29.com/sports/world-cup/france-w...       216   \n",
       "983                https://i.redd.it/rb3o20bny3a11.jpg        50   \n",
       "984                https://i.redd.it/63vwl87pn5a11.png        28   \n",
       "985                    https://i.imgur.com/GgURlQ3.jpg        11   \n",
       "986                https://i.redd.it/pcq8r8rzj4a11.png        34   \n",
       "987                     http://i.imgur.com/c0rIyMq.jpg         4   \n",
       "988                    https://i.imgur.com/srfkWHi.jpg         8   \n",
       "989                https://i.redd.it/bi0sh8lq15a11.jpg        27   \n",
       "990  https://twitter.com/elonmusk/status/1018497953...       303   \n",
       "991                https://i.redd.it/ub5tq24ki4a11.jpg        13   \n",
       "992                https://i.redd.it/ep0zzwhp35a11.png        25   \n",
       "993                          https://imgur.com/JYWTe8G        95   \n",
       "994                https://i.redd.it/2say5u1745a11.png         9   \n",
       "995                   https://i.imgur.com/7zrXb8c.gifv        32   \n",
       "996               https://gfycat.com/BeneficialNextGnu        52   \n",
       "997  https://twitter.com/elonmusk/status/1018497953...       498   \n",
       "998                    https://v.redd.it/kd1z0ysxc5a11        15   \n",
       "999                   https://i.imgur.com/8ZN0YN0.gifv       290   \n",
       "\n",
       "          created              subreddit  \\\n",
       "0    1.531709e+09          todayilearned   \n",
       "1    1.531708e+09                    aww   \n",
       "2    1.531705e+09           pcmasterrace   \n",
       "3    1.531704e+09    BikiniBottomTwitter   \n",
       "4    1.531704e+09                 soccer   \n",
       "5    1.531704e+09                    Art   \n",
       "6    1.531702e+09                 movies   \n",
       "7    1.531704e+09                   pics   \n",
       "8    1.531704e+09          natureismetal   \n",
       "9    1.531704e+09       photoshopbattles   \n",
       "10   1.531702e+09         instant_regret   \n",
       "11   1.531705e+09  ScottishPeopleTwitter   \n",
       "12   1.531700e+09      mildlyinteresting   \n",
       "13   1.531701e+09               BeAmazed   \n",
       "14   1.531699e+09                  funny   \n",
       "15   1.531702e+09               futurama   \n",
       "16   1.531710e+09                 videos   \n",
       "17   1.531702e+09                 europe   \n",
       "18   1.531707e+09                 gaming   \n",
       "19   1.531699e+09            SweatyPalms   \n",
       "20   1.531697e+09               facepalm   \n",
       "21   1.531698e+09      interestingasfuck   \n",
       "22   1.531694e+09               politics   \n",
       "23   1.531697e+09         wholesomememes   \n",
       "24   1.531698e+09                   news   \n",
       "25   1.531694e+09                  PandR   \n",
       "26   1.531701e+09        BetterEveryLoop   \n",
       "27   1.531698e+09                 Tinder   \n",
       "28   1.531703e+09            AteTheOnion   \n",
       "29   1.531694e+09              worldnews   \n",
       "..            ...                    ...   \n",
       "970  1.531699e+09                 Tinder   \n",
       "971  1.531698e+09          bostonceltics   \n",
       "972  1.531701e+09        gentlemanboners   \n",
       "973  1.531700e+09              Heavymind   \n",
       "974  1.531692e+09           cursedimages   \n",
       "975  1.531691e+09        trailerparkboys   \n",
       "976  1.531706e+09            TheSimpsons   \n",
       "977  1.531699e+09              Spiderman   \n",
       "978  1.531704e+09               tacobell   \n",
       "979  1.531694e+09             Warthunder   \n",
       "980  1.531706e+09            travisscott   \n",
       "981  1.531697e+09             hentai_irl   \n",
       "982  1.531703e+09              worldnews   \n",
       "983  1.531688e+09                  drunk   \n",
       "984  1.531708e+09           Ice_Poseidon   \n",
       "985  1.531705e+09              FGOcomics   \n",
       "986  1.531695e+09         inthesoulstone   \n",
       "987  1.531697e+09             realasians   \n",
       "988  1.531682e+09      GirlswithNeonHair   \n",
       "989  1.531701e+09           ACPocketCamp   \n",
       "990  1.531698e+09               JoeRogan   \n",
       "991  1.531694e+09             FrankOcean   \n",
       "992  1.531701e+09      customhearthstone   \n",
       "993  1.531684e+09             DontFundMe   \n",
       "994  1.531702e+09           donaldglover   \n",
       "995  1.531699e+09               Rainbow6   \n",
       "996  1.531705e+09               Warframe   \n",
       "997  1.531694e+09               elonmusk   \n",
       "998  1.531705e+09           Cinemagraphs   \n",
       "999  1.531688e+09                 gaming   \n",
       "\n",
       "                                                 title    ups  \n",
       "0    TIL Madonna leaked a fake version of her album...  29588  \n",
       "1    I haven’t met my new neighbor yet, but her dog...  36194  \n",
       "2                                   this is kinda true  23399  \n",
       "3                                     Dennis has a son  21195  \n",
       "4      Luka Modrić wins the 2018 World Cup Golden Ball  11031  \n",
       "5              Beautiful Bismuth, Digital, 2000x2500px  24313  \n",
       "6    Keanu Reeves' 'Bill & Ted 3' Facing Production...  21584  \n",
       "7       French President celebrates during the final !  81717  \n",
       "8            This sick washed up gar skeleton I found.  14233  \n",
       "9               PsBattle: French President celebrating  45013  \n",
       "10                                     Well that sucks  23090  \n",
       "11                                           Ye nugget  10856  \n",
       "12                  This flower looks like deep space.  49156  \n",
       "13                                  Tree trunk carving  20667  \n",
       "14                                  My people need me!  40026  \n",
       "15                                          Priorities  11292  \n",
       "16            How Christopher Walken says Foo Fighters   4676  \n",
       "17                                    Congrats France!  11511  \n",
       "18   Have to scoff at people saying AAA games aren'...  31005  \n",
       "19                                         That jump 😬  17046  \n",
       "20       So close to being meaningful and inspiring...  32381  \n",
       "21   Due to the shutter speed, the wings of this li...  24563  \n",
       "22   \"I think the European Union is a foe,\" Trump s...  34654  \n",
       "23                                     Simple but true  16585  \n",
       "24   Elon Musk calls British diver who helped rescu...  32413  \n",
       "25        \"Only Speak If It Improves Upon The Silence\"  28889  \n",
       "26                  She's downing a beer with no hands   9718  \n",
       "27   I feel like this is maybe one of those people ...  12454  \n",
       "28   Dear old Sarah here has some interesting opini...   6717  \n",
       "29   Trump, in interview with CBS News, says \"I thi...  31797  \n",
       "..                                                 ...    ...  \n",
       "970                 Her bio said I have to have a dog.   1022  \n",
       "971  Tatum going 1 on 1 w/LeBron at his offseason w...    390  \n",
       "972                                        Emma Watson    536  \n",
       "973                           Unnamed by Suguru Tanaka    345  \n",
       "974                                    cursed_fishtank    517  \n",
       "975                  If you love something set it free    553  \n",
       "976                                   I have a problem    430  \n",
       "977       Far From Home (ASM #300 homage) by BossLogic    359  \n",
       "978       Crunchy green topping. Anyone remember this?    275  \n",
       "979         The Scoreboard Leader vs The Cannon Fodder    467  \n",
       "980                   The world after Astroworld drops    256  \n",
       "981                                         Hentai_irl    395  \n",
       "982  France wins second World Cup title with 4-2 vi...   1396  \n",
       "983                                      Morning y'all    646  \n",
       "984  Wait wtf?? This post has been removed from the...    716  \n",
       "985                             2018 World Champs 🇫🇷🏆⚽    270  \n",
       "986            They're lying to themselves, poor fools   1276  \n",
       "987                                             te amo    401  \n",
       "988                        At least it matches my body    847  \n",
       "989                                     I did a thing!    332  \n",
       "990  Elon Musk calls the cave diver who criticized ...    388  \n",
       "991   Shut the fuck up I don't want your conversation.    460  \n",
       "992                            \"I'll keep your secret\"    317  \n",
       "993  Couple quits jobs to go convert others to thei...    780  \n",
       "994              Never ever thought I'd get this close    511  \n",
       "995               Jackal's ability is superb sometimes   1026  \n",
       "996                               Is this Anasa Prime?    433  \n",
       "997               Musk Calls Thai Cave Rescuer \"Pedo\".    447  \n",
       "998                                       NJ Boardwalk    268  \n",
       "999                            Greatest gaming moment?   7714  \n",
       "\n",
       "[1000 rows x 6 columns]"
      ]
     },
     "execution_count": 33,
     "metadata": {},
     "output_type": "execute_result"
    }
   ],
   "source": [
    "reddit_final"
   ]
  },
  {
   "cell_type": "markdown",
   "metadata": {},
   "source": [
    "## (Optional) Collect more information\n",
    "​\n",
    "While we only require you to collect four features, there may be other info that you can find on the results page that might be useful. Feel free to write more functions so that you have more interesting and useful data."
   ]
  },
  {
   "cell_type": "code",
   "execution_count": null,
   "metadata": {},
   "outputs": [],
   "source": [
    "## played around in previous code with the different features \n",
    "## keep the ones I wanted to use"
   ]
  },
  {
   "cell_type": "markdown",
   "metadata": {},
   "source": [
    "### Save your results as a CSV\n",
    "You may do this regularly while scraping data as well, so that if your scraper stops of your computer crashes, you don't lose all your data."
   ]
  },
  {
   "cell_type": "code",
   "execution_count": 34,
   "metadata": {},
   "outputs": [],
   "source": [
    "reddit_final.to_csv('scrapped to csv')"
   ]
  },
  {
   "cell_type": "markdown",
   "metadata": {},
   "source": [
    "# Cleaning"
   ]
  },
  {
   "cell_type": "code",
   "execution_count": 157,
   "metadata": {},
   "outputs": [
    {
     "data": {
      "text/html": [
       "<div>\n",
       "<style scoped>\n",
       "    .dataframe tbody tr th:only-of-type {\n",
       "        vertical-align: middle;\n",
       "    }\n",
       "\n",
       "    .dataframe tbody tr th {\n",
       "        vertical-align: top;\n",
       "    }\n",
       "\n",
       "    .dataframe thead th {\n",
       "        text-align: right;\n",
       "    }\n",
       "</style>\n",
       "<table border=\"1\" class=\"dataframe\">\n",
       "  <thead>\n",
       "    <tr style=\"text-align: right;\">\n",
       "      <th></th>\n",
       "      <th>URL</th>\n",
       "      <th>comments</th>\n",
       "      <th>created</th>\n",
       "      <th>subreddit</th>\n",
       "      <th>title</th>\n",
       "      <th>ups</th>\n",
       "    </tr>\n",
       "  </thead>\n",
       "  <tbody>\n",
       "    <tr>\n",
       "      <th>0</th>\n",
       "      <td>http://www.thesmokinggun.com//documents/celebr...</td>\n",
       "      <td>1387</td>\n",
       "      <td>1.531709e+09</td>\n",
       "      <td>todayilearned</td>\n",
       "      <td>TIL Madonna leaked a fake version of her album...</td>\n",
       "      <td>29588</td>\n",
       "    </tr>\n",
       "    <tr>\n",
       "      <th>1</th>\n",
       "      <td>https://i.redd.it/5rbdwrt4n5a11.jpg</td>\n",
       "      <td>281</td>\n",
       "      <td>1.531708e+09</td>\n",
       "      <td>aww</td>\n",
       "      <td>I haven’t met my new neighbor yet, but her dog...</td>\n",
       "      <td>36194</td>\n",
       "    </tr>\n",
       "    <tr>\n",
       "      <th>2</th>\n",
       "      <td>https://i.redd.it/jvkk2xwhf5a11.jpg</td>\n",
       "      <td>652</td>\n",
       "      <td>1.531705e+09</td>\n",
       "      <td>pcmasterrace</td>\n",
       "      <td>this is kinda true</td>\n",
       "      <td>23399</td>\n",
       "    </tr>\n",
       "    <tr>\n",
       "      <th>3</th>\n",
       "      <td>https://i.redd.it/j0642xwgc5a11.jpg</td>\n",
       "      <td>272</td>\n",
       "      <td>1.531704e+09</td>\n",
       "      <td>BikiniBottomTwitter</td>\n",
       "      <td>Dennis has a son</td>\n",
       "      <td>21195</td>\n",
       "    </tr>\n",
       "    <tr>\n",
       "      <th>4</th>\n",
       "      <td>https://twitter.com/FIFAWorldCup/status/101854...</td>\n",
       "      <td>1179</td>\n",
       "      <td>1.531704e+09</td>\n",
       "      <td>soccer</td>\n",
       "      <td>Luka Modrić wins the 2018 World Cup Golden Ball</td>\n",
       "      <td>11031</td>\n",
       "    </tr>\n",
       "  </tbody>\n",
       "</table>\n",
       "</div>"
      ],
      "text/plain": [
       "                                                 URL  comments       created  \\\n",
       "0  http://www.thesmokinggun.com//documents/celebr...      1387  1.531709e+09   \n",
       "1                https://i.redd.it/5rbdwrt4n5a11.jpg       281  1.531708e+09   \n",
       "2                https://i.redd.it/jvkk2xwhf5a11.jpg       652  1.531705e+09   \n",
       "3                https://i.redd.it/j0642xwgc5a11.jpg       272  1.531704e+09   \n",
       "4  https://twitter.com/FIFAWorldCup/status/101854...      1179  1.531704e+09   \n",
       "\n",
       "             subreddit                                              title  \\\n",
       "0        todayilearned  TIL Madonna leaked a fake version of her album...   \n",
       "1                  aww  I haven’t met my new neighbor yet, but her dog...   \n",
       "2         pcmasterrace                                 this is kinda true   \n",
       "3  BikiniBottomTwitter                                   Dennis has a son   \n",
       "4               soccer    Luka Modrić wins the 2018 World Cup Golden Ball   \n",
       "\n",
       "     ups  \n",
       "0  29588  \n",
       "1  36194  \n",
       "2  23399  \n",
       "3  21195  \n",
       "4  11031  "
      ]
     },
     "execution_count": 157,
     "metadata": {},
     "output_type": "execute_result"
    }
   ],
   "source": [
    "comments.head()"
   ]
  },
  {
   "cell_type": "code",
   "execution_count": 153,
   "metadata": {
    "scrolled": true
   },
   "outputs": [
    {
     "name": "stdout",
     "output_type": "stream",
     "text": [
      "<class 'pandas.core.frame.DataFrame'>\n",
      "RangeIndex: 1000 entries, 0 to 999\n",
      "Data columns (total 6 columns):\n",
      "URL          1000 non-null object\n",
      "comments     1000 non-null int64\n",
      "created      1000 non-null float64\n",
      "subreddit    1000 non-null object\n",
      "title        1000 non-null object\n",
      "ups          1000 non-null int64\n",
      "dtypes: float64(1), int64(2), object(3)\n",
      "memory usage: 47.0+ KB\n"
     ]
    }
   ],
   "source": [
    "comments.info()"
   ]
  },
  {
   "cell_type": "code",
   "execution_count": 154,
   "metadata": {},
   "outputs": [
    {
     "data": {
      "text/plain": [
       "Index(['URL', 'comments', 'created', 'subreddit', 'title', 'ups'], dtype='object')"
      ]
     },
     "execution_count": 154,
     "metadata": {},
     "output_type": "execute_result"
    }
   ],
   "source": [
    "comments.columns"
   ]
  },
  {
   "cell_type": "code",
   "execution_count": 156,
   "metadata": {},
   "outputs": [
    {
     "data": {
      "text/plain": [
       "(1000, 6)"
      ]
     },
     "execution_count": 156,
     "metadata": {},
     "output_type": "execute_result"
    }
   ],
   "source": [
    "comments.shape"
   ]
  },
  {
   "cell_type": "code",
   "execution_count": 160,
   "metadata": {},
   "outputs": [
    {
     "data": {
      "text/plain": [
       "URL          0\n",
       "comments     0\n",
       "created      0\n",
       "subreddit    0\n",
       "title        0\n",
       "ups          0\n",
       "dtype: int64"
      ]
     },
     "execution_count": 160,
     "metadata": {},
     "output_type": "execute_result"
    }
   ],
   "source": [
    "comments.isnull().sum()"
   ]
  },
  {
   "cell_type": "markdown",
   "metadata": {},
   "source": [
    "## Predicting comments using Random Forests + Another Classifier"
   ]
  },
  {
   "cell_type": "markdown",
   "metadata": {},
   "source": [
    "#### Load in the the data of scraped results"
   ]
  },
  {
   "cell_type": "code",
   "execution_count": 35,
   "metadata": {},
   "outputs": [
    {
     "data": {
      "text/html": [
       "<div>\n",
       "<style scoped>\n",
       "    .dataframe tbody tr th:only-of-type {\n",
       "        vertical-align: middle;\n",
       "    }\n",
       "\n",
       "    .dataframe tbody tr th {\n",
       "        vertical-align: top;\n",
       "    }\n",
       "\n",
       "    .dataframe thead th {\n",
       "        text-align: right;\n",
       "    }\n",
       "</style>\n",
       "<table border=\"1\" class=\"dataframe\">\n",
       "  <thead>\n",
       "    <tr style=\"text-align: right;\">\n",
       "      <th></th>\n",
       "      <th>Unnamed: 0</th>\n",
       "      <th>URL</th>\n",
       "      <th>comments</th>\n",
       "      <th>created</th>\n",
       "      <th>subreddit</th>\n",
       "      <th>title</th>\n",
       "      <th>ups</th>\n",
       "    </tr>\n",
       "  </thead>\n",
       "  <tbody>\n",
       "    <tr>\n",
       "      <th>0</th>\n",
       "      <td>0</td>\n",
       "      <td>http://www.thesmokinggun.com//documents/celebr...</td>\n",
       "      <td>1387</td>\n",
       "      <td>1.531709e+09</td>\n",
       "      <td>todayilearned</td>\n",
       "      <td>TIL Madonna leaked a fake version of her album...</td>\n",
       "      <td>29588</td>\n",
       "    </tr>\n",
       "    <tr>\n",
       "      <th>1</th>\n",
       "      <td>1</td>\n",
       "      <td>https://i.redd.it/5rbdwrt4n5a11.jpg</td>\n",
       "      <td>281</td>\n",
       "      <td>1.531708e+09</td>\n",
       "      <td>aww</td>\n",
       "      <td>I haven’t met my new neighbor yet, but her dog...</td>\n",
       "      <td>36194</td>\n",
       "    </tr>\n",
       "    <tr>\n",
       "      <th>2</th>\n",
       "      <td>2</td>\n",
       "      <td>https://i.redd.it/jvkk2xwhf5a11.jpg</td>\n",
       "      <td>652</td>\n",
       "      <td>1.531705e+09</td>\n",
       "      <td>pcmasterrace</td>\n",
       "      <td>this is kinda true</td>\n",
       "      <td>23399</td>\n",
       "    </tr>\n",
       "    <tr>\n",
       "      <th>3</th>\n",
       "      <td>3</td>\n",
       "      <td>https://i.redd.it/j0642xwgc5a11.jpg</td>\n",
       "      <td>272</td>\n",
       "      <td>1.531704e+09</td>\n",
       "      <td>BikiniBottomTwitter</td>\n",
       "      <td>Dennis has a son</td>\n",
       "      <td>21195</td>\n",
       "    </tr>\n",
       "    <tr>\n",
       "      <th>4</th>\n",
       "      <td>4</td>\n",
       "      <td>https://twitter.com/FIFAWorldCup/status/101854...</td>\n",
       "      <td>1179</td>\n",
       "      <td>1.531704e+09</td>\n",
       "      <td>soccer</td>\n",
       "      <td>Luka Modrić wins the 2018 World Cup Golden Ball</td>\n",
       "      <td>11031</td>\n",
       "    </tr>\n",
       "  </tbody>\n",
       "</table>\n",
       "</div>"
      ],
      "text/plain": [
       "   Unnamed: 0                                                URL  comments  \\\n",
       "0           0  http://www.thesmokinggun.com//documents/celebr...      1387   \n",
       "1           1                https://i.redd.it/5rbdwrt4n5a11.jpg       281   \n",
       "2           2                https://i.redd.it/jvkk2xwhf5a11.jpg       652   \n",
       "3           3                https://i.redd.it/j0642xwgc5a11.jpg       272   \n",
       "4           4  https://twitter.com/FIFAWorldCup/status/101854...      1179   \n",
       "\n",
       "        created            subreddit  \\\n",
       "0  1.531709e+09        todayilearned   \n",
       "1  1.531708e+09                  aww   \n",
       "2  1.531705e+09         pcmasterrace   \n",
       "3  1.531704e+09  BikiniBottomTwitter   \n",
       "4  1.531704e+09               soccer   \n",
       "\n",
       "                                               title    ups  \n",
       "0  TIL Madonna leaked a fake version of her album...  29588  \n",
       "1  I haven’t met my new neighbor yet, but her dog...  36194  \n",
       "2                                 this is kinda true  23399  \n",
       "3                                   Dennis has a son  21195  \n",
       "4    Luka Modrić wins the 2018 World Cup Golden Ball  11031  "
      ]
     },
     "execution_count": 35,
     "metadata": {},
     "output_type": "execute_result"
    }
   ],
   "source": [
    "comments = pd.read_csv('/Users/harrypatterson/dsi/project-3/scrapped to csv')\n",
    "comments.head()"
   ]
  },
  {
   "cell_type": "code",
   "execution_count": 36,
   "metadata": {},
   "outputs": [
    {
     "data": {
      "text/html": [
       "<div>\n",
       "<style scoped>\n",
       "    .dataframe tbody tr th:only-of-type {\n",
       "        vertical-align: middle;\n",
       "    }\n",
       "\n",
       "    .dataframe tbody tr th {\n",
       "        vertical-align: top;\n",
       "    }\n",
       "\n",
       "    .dataframe thead th {\n",
       "        text-align: right;\n",
       "    }\n",
       "</style>\n",
       "<table border=\"1\" class=\"dataframe\">\n",
       "  <thead>\n",
       "    <tr style=\"text-align: right;\">\n",
       "      <th></th>\n",
       "      <th>URL</th>\n",
       "      <th>comments</th>\n",
       "      <th>created</th>\n",
       "      <th>subreddit</th>\n",
       "      <th>title</th>\n",
       "      <th>ups</th>\n",
       "    </tr>\n",
       "  </thead>\n",
       "  <tbody>\n",
       "    <tr>\n",
       "      <th>0</th>\n",
       "      <td>http://www.thesmokinggun.com//documents/celebr...</td>\n",
       "      <td>1387</td>\n",
       "      <td>1.531709e+09</td>\n",
       "      <td>todayilearned</td>\n",
       "      <td>TIL Madonna leaked a fake version of her album...</td>\n",
       "      <td>29588</td>\n",
       "    </tr>\n",
       "    <tr>\n",
       "      <th>1</th>\n",
       "      <td>https://i.redd.it/5rbdwrt4n5a11.jpg</td>\n",
       "      <td>281</td>\n",
       "      <td>1.531708e+09</td>\n",
       "      <td>aww</td>\n",
       "      <td>I haven’t met my new neighbor yet, but her dog...</td>\n",
       "      <td>36194</td>\n",
       "    </tr>\n",
       "    <tr>\n",
       "      <th>2</th>\n",
       "      <td>https://i.redd.it/jvkk2xwhf5a11.jpg</td>\n",
       "      <td>652</td>\n",
       "      <td>1.531705e+09</td>\n",
       "      <td>pcmasterrace</td>\n",
       "      <td>this is kinda true</td>\n",
       "      <td>23399</td>\n",
       "    </tr>\n",
       "    <tr>\n",
       "      <th>3</th>\n",
       "      <td>https://i.redd.it/j0642xwgc5a11.jpg</td>\n",
       "      <td>272</td>\n",
       "      <td>1.531704e+09</td>\n",
       "      <td>BikiniBottomTwitter</td>\n",
       "      <td>Dennis has a son</td>\n",
       "      <td>21195</td>\n",
       "    </tr>\n",
       "    <tr>\n",
       "      <th>4</th>\n",
       "      <td>https://twitter.com/FIFAWorldCup/status/101854...</td>\n",
       "      <td>1179</td>\n",
       "      <td>1.531704e+09</td>\n",
       "      <td>soccer</td>\n",
       "      <td>Luka Modrić wins the 2018 World Cup Golden Ball</td>\n",
       "      <td>11031</td>\n",
       "    </tr>\n",
       "  </tbody>\n",
       "</table>\n",
       "</div>"
      ],
      "text/plain": [
       "                                                 URL  comments       created  \\\n",
       "0  http://www.thesmokinggun.com//documents/celebr...      1387  1.531709e+09   \n",
       "1                https://i.redd.it/5rbdwrt4n5a11.jpg       281  1.531708e+09   \n",
       "2                https://i.redd.it/jvkk2xwhf5a11.jpg       652  1.531705e+09   \n",
       "3                https://i.redd.it/j0642xwgc5a11.jpg       272  1.531704e+09   \n",
       "4  https://twitter.com/FIFAWorldCup/status/101854...      1179  1.531704e+09   \n",
       "\n",
       "             subreddit                                              title  \\\n",
       "0        todayilearned  TIL Madonna leaked a fake version of her album...   \n",
       "1                  aww  I haven’t met my new neighbor yet, but her dog...   \n",
       "2         pcmasterrace                                 this is kinda true   \n",
       "3  BikiniBottomTwitter                                   Dennis has a son   \n",
       "4               soccer    Luka Modrić wins the 2018 World Cup Golden Ball   \n",
       "\n",
       "     ups  \n",
       "0  29588  \n",
       "1  36194  \n",
       "2  23399  \n",
       "3  21195  \n",
       "4  11031  "
      ]
     },
     "execution_count": 36,
     "metadata": {},
     "output_type": "execute_result"
    }
   ],
   "source": [
    "comments.drop('Unnamed: 0', axis = 1, inplace=True) \n",
    "comments.head()"
   ]
  },
  {
   "cell_type": "markdown",
   "metadata": {},
   "source": [
    "#### We want to predict a binary variable - whether the number of comments was low or high. Compute the median number of comments and create a new binary variable that is true when the number of comments is high (above the median)\n",
    "\n",
    "We could also perform Linear Regression (or any regression) to predict the number of comments here. Instead, we are going to convert this into a _binary_ classification problem, by predicting two classes, HIGH vs LOW number of comments.\n",
    "\n",
    "While performing regression may be better, performing classification may help remove some of the noise of the extremely popular threads. We don't _have_ to choose the `median` as the splitting point - we could also split on the 75th percentile or any other reasonable breaking point.\n",
    "\n",
    "In fact, the ideal scenario may be to predict many levels of comment numbers. "
   ]
  },
  {
   "cell_type": "code",
   "execution_count": null,
   "metadata": {},
   "outputs": [],
   "source": [
    "Avgcomments = comments['comments'].mean()\n",
    "Avgcomments"
   ]
  },
  {
   "cell_type": "code",
   "execution_count": 162,
   "metadata": {},
   "outputs": [],
   "source": [
    "comments[\"Binary\"] = np.where(comments[\"comments\"]>Avgcomments, 1, 0)"
   ]
  },
  {
   "cell_type": "code",
   "execution_count": 163,
   "metadata": {},
   "outputs": [
    {
     "data": {
      "text/html": [
       "<div>\n",
       "<style scoped>\n",
       "    .dataframe tbody tr th:only-of-type {\n",
       "        vertical-align: middle;\n",
       "    }\n",
       "\n",
       "    .dataframe tbody tr th {\n",
       "        vertical-align: top;\n",
       "    }\n",
       "\n",
       "    .dataframe thead th {\n",
       "        text-align: right;\n",
       "    }\n",
       "</style>\n",
       "<table border=\"1\" class=\"dataframe\">\n",
       "  <thead>\n",
       "    <tr style=\"text-align: right;\">\n",
       "      <th></th>\n",
       "      <th>URL</th>\n",
       "      <th>comments</th>\n",
       "      <th>created</th>\n",
       "      <th>subreddit</th>\n",
       "      <th>title</th>\n",
       "      <th>ups</th>\n",
       "      <th>Binary</th>\n",
       "    </tr>\n",
       "  </thead>\n",
       "  <tbody>\n",
       "    <tr>\n",
       "      <th>0</th>\n",
       "      <td>http://www.thesmokinggun.com//documents/celebr...</td>\n",
       "      <td>1387</td>\n",
       "      <td>1.531709e+09</td>\n",
       "      <td>todayilearned</td>\n",
       "      <td>TIL Madonna leaked a fake version of her album...</td>\n",
       "      <td>29588</td>\n",
       "      <td>1</td>\n",
       "    </tr>\n",
       "    <tr>\n",
       "      <th>1</th>\n",
       "      <td>https://i.redd.it/5rbdwrt4n5a11.jpg</td>\n",
       "      <td>281</td>\n",
       "      <td>1.531708e+09</td>\n",
       "      <td>aww</td>\n",
       "      <td>I haven’t met my new neighbor yet, but her dog...</td>\n",
       "      <td>36194</td>\n",
       "      <td>1</td>\n",
       "    </tr>\n",
       "    <tr>\n",
       "      <th>2</th>\n",
       "      <td>https://i.redd.it/jvkk2xwhf5a11.jpg</td>\n",
       "      <td>652</td>\n",
       "      <td>1.531705e+09</td>\n",
       "      <td>pcmasterrace</td>\n",
       "      <td>this is kinda true</td>\n",
       "      <td>23399</td>\n",
       "      <td>1</td>\n",
       "    </tr>\n",
       "    <tr>\n",
       "      <th>3</th>\n",
       "      <td>https://i.redd.it/j0642xwgc5a11.jpg</td>\n",
       "      <td>272</td>\n",
       "      <td>1.531704e+09</td>\n",
       "      <td>BikiniBottomTwitter</td>\n",
       "      <td>Dennis has a son</td>\n",
       "      <td>21195</td>\n",
       "      <td>1</td>\n",
       "    </tr>\n",
       "    <tr>\n",
       "      <th>4</th>\n",
       "      <td>https://twitter.com/FIFAWorldCup/status/101854...</td>\n",
       "      <td>1179</td>\n",
       "      <td>1.531704e+09</td>\n",
       "      <td>soccer</td>\n",
       "      <td>Luka Modrić wins the 2018 World Cup Golden Ball</td>\n",
       "      <td>11031</td>\n",
       "      <td>1</td>\n",
       "    </tr>\n",
       "  </tbody>\n",
       "</table>\n",
       "</div>"
      ],
      "text/plain": [
       "                                                 URL  comments       created  \\\n",
       "0  http://www.thesmokinggun.com//documents/celebr...      1387  1.531709e+09   \n",
       "1                https://i.redd.it/5rbdwrt4n5a11.jpg       281  1.531708e+09   \n",
       "2                https://i.redd.it/jvkk2xwhf5a11.jpg       652  1.531705e+09   \n",
       "3                https://i.redd.it/j0642xwgc5a11.jpg       272  1.531704e+09   \n",
       "4  https://twitter.com/FIFAWorldCup/status/101854...      1179  1.531704e+09   \n",
       "\n",
       "             subreddit                                              title  \\\n",
       "0        todayilearned  TIL Madonna leaked a fake version of her album...   \n",
       "1                  aww  I haven’t met my new neighbor yet, but her dog...   \n",
       "2         pcmasterrace                                 this is kinda true   \n",
       "3  BikiniBottomTwitter                                   Dennis has a son   \n",
       "4               soccer    Luka Modrić wins the 2018 World Cup Golden Ball   \n",
       "\n",
       "     ups  Binary  \n",
       "0  29588       1  \n",
       "1  36194       1  \n",
       "2  23399       1  \n",
       "3  21195       1  \n",
       "4  11031       1  "
      ]
     },
     "execution_count": 163,
     "metadata": {},
     "output_type": "execute_result"
    }
   ],
   "source": [
    "comments.head()"
   ]
  },
  {
   "cell_type": "code",
   "execution_count": 167,
   "metadata": {},
   "outputs": [
    {
     "data": {
      "text/plain": [
       "0    0.801\n",
       "1    0.199\n",
       "Name: Binary, dtype: float64"
      ]
     },
     "execution_count": 167,
     "metadata": {},
     "output_type": "execute_result"
    }
   ],
   "source": [
    "comments['Binary'].value_counts(normalize=True)\n"
   ]
  },
  {
   "cell_type": "code",
   "execution_count": 169,
   "metadata": {},
   "outputs": [],
   "source": [
    "y = comments['Binary']\n",
    "X = Avgcomments"
   ]
  },
  {
   "cell_type": "code",
   "execution_count": 170,
   "metadata": {},
   "outputs": [
    {
     "data": {
      "text/plain": [
       "0    1\n",
       "1    1\n",
       "2    1\n",
       "3    1\n",
       "4    1\n",
       "Name: Binary, dtype: int64"
      ]
     },
     "execution_count": 170,
     "metadata": {},
     "output_type": "execute_result"
    }
   ],
   "source": [
    "y.head()"
   ]
  },
  {
   "cell_type": "code",
   "execution_count": 171,
   "metadata": {},
   "outputs": [
    {
     "data": {
      "text/plain": [
       "197.026"
      ]
     },
     "execution_count": 171,
     "metadata": {},
     "output_type": "execute_result"
    }
   ],
   "source": [
    "X"
   ]
  },
  {
   "cell_type": "code",
   "execution_count": 172,
   "metadata": {},
   "outputs": [
    {
     "data": {
      "image/png": "[encoded data removed]",
      "text/plain": [
       "<matplotlib.figure.Figure at 0x1a183f5710>"
      ]
     },
     "metadata": {},
     "output_type": "display_data"
    },
    {
     "ename": "AttributeError",
     "evalue": "module 'matplotlib.pyplot' has no attribute 'savefit'",
     "output_type": "error",
     "traceback": [
      "\u001b[0;31m---------------------------------------------------------------------------\u001b[0m",
      "\u001b[0;31mAttributeError\u001b[0m                            Traceback (most recent call last)",
      "\u001b[0;32m<ipython-input-172-5f849e31422b>\u001b[0m in \u001b[0;36m<module>\u001b[0;34m()\u001b[0m\n\u001b[1;32m      1\u001b[0m \u001b[0msns\u001b[0m\u001b[0;34m.\u001b[0m\u001b[0mcountplot\u001b[0m\u001b[0;34m(\u001b[0m\u001b[0my\u001b[0m\u001b[0;34m,\u001b[0m \u001b[0mpalette\u001b[0m\u001b[0;34m=\u001b[0m\u001b[0;34m'hls'\u001b[0m\u001b[0;34m)\u001b[0m\u001b[0;34m\u001b[0m\u001b[0m\n\u001b[1;32m      2\u001b[0m \u001b[0mplt\u001b[0m\u001b[0;34m.\u001b[0m\u001b[0mshow\u001b[0m\u001b[0;34m(\u001b[0m\u001b[0;34m)\u001b[0m\u001b[0;34m\u001b[0m\u001b[0m\n\u001b[0;32m----> 3\u001b[0;31m \u001b[0mplt\u001b[0m\u001b[0;34m.\u001b[0m\u001b[0msavefit\u001b[0m\u001b[0;34m(\u001b[0m\u001b[0;34m'count_plot'\u001b[0m\u001b[0;34m)\u001b[0m\u001b[0;34m\u001b[0m\u001b[0m\n\u001b[0m",
      "\u001b[0;31mAttributeError\u001b[0m: module 'matplotlib.pyplot' has no attribute 'savefit'"
     ]
    }
   ],
   "source": [
    "sns.countplot(y, palette='hls')\n",
    "plt.show()\n",
    "plt.savefit('count_plot')"
   ]
  },
  {
   "cell_type": "code",
   "execution_count": 173,
   "metadata": {},
   "outputs": [
    {
     "data": {
      "text/plain": [
       "(1000, 1)"
      ]
     },
     "execution_count": 173,
     "metadata": {},
     "output_type": "execute_result"
    }
   ],
   "source": [
    "Binary.shape"
   ]
  },
  {
   "cell_type": "code",
   "execution_count": 174,
   "metadata": {},
   "outputs": [
    {
     "data": {
      "text/html": [
       "<div>\n",
       "<style scoped>\n",
       "    .dataframe tbody tr th:only-of-type {\n",
       "        vertical-align: middle;\n",
       "    }\n",
       "\n",
       "    .dataframe tbody tr th {\n",
       "        vertical-align: top;\n",
       "    }\n",
       "\n",
       "    .dataframe thead th {\n",
       "        text-align: right;\n",
       "    }\n",
       "</style>\n",
       "<table border=\"1\" class=\"dataframe\">\n",
       "  <thead>\n",
       "    <tr style=\"text-align: right;\">\n",
       "      <th></th>\n",
       "      <th>comments</th>\n",
       "      <th>subreddit</th>\n",
       "      <th>title</th>\n",
       "    </tr>\n",
       "  </thead>\n",
       "  <tbody>\n",
       "    <tr>\n",
       "      <th>0</th>\n",
       "      <td>290</td>\n",
       "      <td>gaming</td>\n",
       "      <td>Greatest gaming moment?</td>\n",
       "    </tr>\n",
       "    <tr>\n",
       "      <th>1</th>\n",
       "      <td>290</td>\n",
       "      <td>gaming</td>\n",
       "      <td>Greatest gaming moment?</td>\n",
       "    </tr>\n",
       "    <tr>\n",
       "      <th>2</th>\n",
       "      <td>290</td>\n",
       "      <td>gaming</td>\n",
       "      <td>Greatest gaming moment?</td>\n",
       "    </tr>\n",
       "    <tr>\n",
       "      <th>3</th>\n",
       "      <td>290</td>\n",
       "      <td>gaming</td>\n",
       "      <td>Greatest gaming moment?</td>\n",
       "    </tr>\n",
       "    <tr>\n",
       "      <th>4</th>\n",
       "      <td>290</td>\n",
       "      <td>gaming</td>\n",
       "      <td>Greatest gaming moment?</td>\n",
       "    </tr>\n",
       "    <tr>\n",
       "      <th>5</th>\n",
       "      <td>290</td>\n",
       "      <td>gaming</td>\n",
       "      <td>Greatest gaming moment?</td>\n",
       "    </tr>\n",
       "    <tr>\n",
       "      <th>6</th>\n",
       "      <td>290</td>\n",
       "      <td>gaming</td>\n",
       "      <td>Greatest gaming moment?</td>\n",
       "    </tr>\n",
       "  </tbody>\n",
       "</table>\n",
       "</div>"
      ],
      "text/plain": [
       "   comments subreddit                    title\n",
       "0       290    gaming  Greatest gaming moment?\n",
       "1       290    gaming  Greatest gaming moment?\n",
       "2       290    gaming  Greatest gaming moment?\n",
       "3       290    gaming  Greatest gaming moment?\n",
       "4       290    gaming  Greatest gaming moment?\n",
       "5       290    gaming  Greatest gaming moment?\n",
       "6       290    gaming  Greatest gaming moment?"
      ]
     },
     "execution_count": 174,
     "metadata": {},
     "output_type": "execute_result"
    }
   ],
   "source": [
    "commentsTorF = []\n",
    "for i in comments:\n",
    "    subT = {}\n",
    "    subT['title'] = c.title\n",
    "    subT['comments'] = c.num_comments\n",
    "    subT['subreddit'] = c.subreddit\n",
    "    commentsTorF.append(subT)\n",
    "pd.DataFrame(commentsTorF)"
   ]
  },
  {
   "cell_type": "code",
   "execution_count": 175,
   "metadata": {
    "scrolled": true
   },
   "outputs": [
    {
     "data": {
      "text/html": [
       "<div>\n",
       "<style scoped>\n",
       "    .dataframe tbody tr th:only-of-type {\n",
       "        vertical-align: middle;\n",
       "    }\n",
       "\n",
       "    .dataframe tbody tr th {\n",
       "        vertical-align: top;\n",
       "    }\n",
       "\n",
       "    .dataframe thead th {\n",
       "        text-align: right;\n",
       "    }\n",
       "</style>\n",
       "<table border=\"1\" class=\"dataframe\">\n",
       "  <thead>\n",
       "    <tr style=\"text-align: right;\">\n",
       "      <th></th>\n",
       "      <th>comments</th>\n",
       "      <th>subreddit</th>\n",
       "      <th>title</th>\n",
       "    </tr>\n",
       "  </thead>\n",
       "  <tbody>\n",
       "    <tr>\n",
       "      <th>0</th>\n",
       "      <td>290</td>\n",
       "      <td>gaming</td>\n",
       "      <td>Greatest gaming moment?</td>\n",
       "    </tr>\n",
       "    <tr>\n",
       "      <th>1</th>\n",
       "      <td>290</td>\n",
       "      <td>gaming</td>\n",
       "      <td>Greatest gaming moment?</td>\n",
       "    </tr>\n",
       "    <tr>\n",
       "      <th>2</th>\n",
       "      <td>290</td>\n",
       "      <td>gaming</td>\n",
       "      <td>Greatest gaming moment?</td>\n",
       "    </tr>\n",
       "    <tr>\n",
       "      <th>3</th>\n",
       "      <td>290</td>\n",
       "      <td>gaming</td>\n",
       "      <td>Greatest gaming moment?</td>\n",
       "    </tr>\n",
       "    <tr>\n",
       "      <th>4</th>\n",
       "      <td>290</td>\n",
       "      <td>gaming</td>\n",
       "      <td>Greatest gaming moment?</td>\n",
       "    </tr>\n",
       "    <tr>\n",
       "      <th>5</th>\n",
       "      <td>290</td>\n",
       "      <td>gaming</td>\n",
       "      <td>Greatest gaming moment?</td>\n",
       "    </tr>\n",
       "    <tr>\n",
       "      <th>6</th>\n",
       "      <td>290</td>\n",
       "      <td>gaming</td>\n",
       "      <td>Greatest gaming moment?</td>\n",
       "    </tr>\n",
       "  </tbody>\n",
       "</table>\n",
       "</div>"
      ],
      "text/plain": [
       "   comments subreddit                    title\n",
       "0       290    gaming  Greatest gaming moment?\n",
       "1       290    gaming  Greatest gaming moment?\n",
       "2       290    gaming  Greatest gaming moment?\n",
       "3       290    gaming  Greatest gaming moment?\n",
       "4       290    gaming  Greatest gaming moment?\n",
       "5       290    gaming  Greatest gaming moment?\n",
       "6       290    gaming  Greatest gaming moment?"
      ]
     },
     "execution_count": 175,
     "metadata": {},
     "output_type": "execute_result"
    }
   ],
   "source": [
    "pd.DataFrame(commentsTorF)"
   ]
  },
  {
   "cell_type": "markdown",
   "metadata": {},
   "source": [
    "#### Thought experiment: What is the baseline accuracy for this model?"
   ]
  },
  {
   "cell_type": "code",
   "execution_count": 78,
   "metadata": {},
   "outputs": [
    {
     "data": {
      "text/plain": [
       "197.026"
      ]
     },
     "execution_count": 78,
     "metadata": {},
     "output_type": "execute_result"
    }
   ],
   "source": [
    "## YOUR CODE HERE\n",
    "Avgcomments"
   ]
  },
  {
   "cell_type": "markdown",
   "metadata": {},
   "source": [
    "# create dummies"
   ]
  },
  {
   "cell_type": "code",
   "execution_count": 177,
   "metadata": {},
   "outputs": [
    {
     "data": {
      "text/html": [
       "<div>\n",
       "<style scoped>\n",
       "    .dataframe tbody tr th:only-of-type {\n",
       "        vertical-align: middle;\n",
       "    }\n",
       "\n",
       "    .dataframe tbody tr th {\n",
       "        vertical-align: top;\n",
       "    }\n",
       "\n",
       "    .dataframe thead th {\n",
       "        text-align: right;\n",
       "    }\n",
       "</style>\n",
       "<table border=\"1\" class=\"dataframe\">\n",
       "  <thead>\n",
       "    <tr style=\"text-align: right;\">\n",
       "      <th></th>\n",
       "      <th>URL</th>\n",
       "      <th>comments</th>\n",
       "      <th>created</th>\n",
       "      <th>subreddit</th>\n",
       "      <th>ups</th>\n",
       "      <th>Binary_0</th>\n",
       "      <th>Binary_1</th>\n",
       "      <th>title_\"Did you miss me?!\"</th>\n",
       "      <th>title_\"Ghost in the Fog\" by daniel_b_demented from the official DBD Fan Contest.</th>\n",
       "      <th>title_\"I think the European Union is a foe,\" Trump says ahead of Putin meeting in Helsinki</th>\n",
       "      <th>...</th>\n",
       "      <th>title_“Cheese” burger</th>\n",
       "      <th>title_“I’m sorry little one...but as they say, I did nothing wrong.”</th>\n",
       "      <th>title_“Koloktos”, boss of “The Ancient Cistern” from “Zelda, Skyward Sword” is a mechanical entity that has been possessed by dark energy, and this is shown by a purple substance inside it. I wonder if this was a precursor to the possessed guardians and divine beasts from “Breath of the Wild”.</th>\n",
       "      <th>title_“Make sure you’re recording. I want to send it to Mom, she’s always hated I bought this”</th>\n",
       "      <th>title_“That’s fuckin hot!” -Dan</th>\n",
       "      <th>title_“When West Virginia teachers went on strike, Bernie Sanders called immediately and asked the teachers what he could do to help.” -Randi Weingarten</th>\n",
       "      <th>title_👅</th>\n",
       "      <th>title_🔥 Blue Mycean Mushroom</th>\n",
       "      <th>title_🔥 Siberian Tiger covered in snow</th>\n",
       "      <th>title_🛁👰🏼😢</th>\n",
       "    </tr>\n",
       "  </thead>\n",
       "  <tbody>\n",
       "    <tr>\n",
       "      <th>0</th>\n",
       "      <td>http://www.thesmokinggun.com//documents/celebr...</td>\n",
       "      <td>1387</td>\n",
       "      <td>1.531709e+09</td>\n",
       "      <td>todayilearned</td>\n",
       "      <td>29588</td>\n",
       "      <td>0</td>\n",
       "      <td>1</td>\n",
       "      <td>0</td>\n",
       "      <td>0</td>\n",
       "      <td>0</td>\n",
       "      <td>...</td>\n",
       "      <td>0</td>\n",
       "      <td>0</td>\n",
       "      <td>0</td>\n",
       "      <td>0</td>\n",
       "      <td>0</td>\n",
       "      <td>0</td>\n",
       "      <td>0</td>\n",
       "      <td>0</td>\n",
       "      <td>0</td>\n",
       "      <td>0</td>\n",
       "    </tr>\n",
       "    <tr>\n",
       "      <th>1</th>\n",
       "      <td>https://i.redd.it/5rbdwrt4n5a11.jpg</td>\n",
       "      <td>281</td>\n",
       "      <td>1.531708e+09</td>\n",
       "      <td>aww</td>\n",
       "      <td>36194</td>\n",
       "      <td>0</td>\n",
       "      <td>1</td>\n",
       "      <td>0</td>\n",
       "      <td>0</td>\n",
       "      <td>0</td>\n",
       "      <td>...</td>\n",
       "      <td>0</td>\n",
       "      <td>0</td>\n",
       "      <td>0</td>\n",
       "      <td>0</td>\n",
       "      <td>0</td>\n",
       "      <td>0</td>\n",
       "      <td>0</td>\n",
       "      <td>0</td>\n",
       "      <td>0</td>\n",
       "      <td>0</td>\n",
       "    </tr>\n",
       "    <tr>\n",
       "      <th>2</th>\n",
       "      <td>https://i.redd.it/jvkk2xwhf5a11.jpg</td>\n",
       "      <td>652</td>\n",
       "      <td>1.531705e+09</td>\n",
       "      <td>pcmasterrace</td>\n",
       "      <td>23399</td>\n",
       "      <td>0</td>\n",
       "      <td>1</td>\n",
       "      <td>0</td>\n",
       "      <td>0</td>\n",
       "      <td>0</td>\n",
       "      <td>...</td>\n",
       "      <td>0</td>\n",
       "      <td>0</td>\n",
       "      <td>0</td>\n",
       "      <td>0</td>\n",
       "      <td>0</td>\n",
       "      <td>0</td>\n",
       "      <td>0</td>\n",
       "      <td>0</td>\n",
       "      <td>0</td>\n",
       "      <td>0</td>\n",
       "    </tr>\n",
       "    <tr>\n",
       "      <th>3</th>\n",
       "      <td>https://i.redd.it/j0642xwgc5a11.jpg</td>\n",
       "      <td>272</td>\n",
       "      <td>1.531704e+09</td>\n",
       "      <td>BikiniBottomTwitter</td>\n",
       "      <td>21195</td>\n",
       "      <td>0</td>\n",
       "      <td>1</td>\n",
       "      <td>0</td>\n",
       "      <td>0</td>\n",
       "      <td>0</td>\n",
       "      <td>...</td>\n",
       "      <td>0</td>\n",
       "      <td>0</td>\n",
       "      <td>0</td>\n",
       "      <td>0</td>\n",
       "      <td>0</td>\n",
       "      <td>0</td>\n",
       "      <td>0</td>\n",
       "      <td>0</td>\n",
       "      <td>0</td>\n",
       "      <td>0</td>\n",
       "    </tr>\n",
       "    <tr>\n",
       "      <th>4</th>\n",
       "      <td>https://twitter.com/FIFAWorldCup/status/101854...</td>\n",
       "      <td>1179</td>\n",
       "      <td>1.531704e+09</td>\n",
       "      <td>soccer</td>\n",
       "      <td>11031</td>\n",
       "      <td>0</td>\n",
       "      <td>1</td>\n",
       "      <td>0</td>\n",
       "      <td>0</td>\n",
       "      <td>0</td>\n",
       "      <td>...</td>\n",
       "      <td>0</td>\n",
       "      <td>0</td>\n",
       "      <td>0</td>\n",
       "      <td>0</td>\n",
       "      <td>0</td>\n",
       "      <td>0</td>\n",
       "      <td>0</td>\n",
       "      <td>0</td>\n",
       "      <td>0</td>\n",
       "      <td>0</td>\n",
       "    </tr>\n",
       "  </tbody>\n",
       "</table>\n",
       "<p>5 rows × 990 columns</p>\n",
       "</div>"
      ],
      "text/plain": [
       "                                                 URL  comments       created  \\\n",
       "0  http://www.thesmokinggun.com//documents/celebr...      1387  1.531709e+09   \n",
       "1                https://i.redd.it/5rbdwrt4n5a11.jpg       281  1.531708e+09   \n",
       "2                https://i.redd.it/jvkk2xwhf5a11.jpg       652  1.531705e+09   \n",
       "3                https://i.redd.it/j0642xwgc5a11.jpg       272  1.531704e+09   \n",
       "4  https://twitter.com/FIFAWorldCup/status/101854...      1179  1.531704e+09   \n",
       "\n",
       "             subreddit    ups  Binary_0  Binary_1  title_\"Did you miss me?!\"  \\\n",
       "0        todayilearned  29588         0         1                          0   \n",
       "1                  aww  36194         0         1                          0   \n",
       "2         pcmasterrace  23399         0         1                          0   \n",
       "3  BikiniBottomTwitter  21195         0         1                          0   \n",
       "4               soccer  11031         0         1                          0   \n",
       "\n",
       "   title_\"Ghost in the Fog\" by daniel_b_demented from the official DBD Fan Contest.  \\\n",
       "0                                                  0                                  \n",
       "1                                                  0                                  \n",
       "2                                                  0                                  \n",
       "3                                                  0                                  \n",
       "4                                                  0                                  \n",
       "\n",
       "   title_\"I think the European Union is a foe,\" Trump says ahead of Putin meeting in Helsinki  \\\n",
       "0                                                  0                                            \n",
       "1                                                  0                                            \n",
       "2                                                  0                                            \n",
       "3                                                  0                                            \n",
       "4                                                  0                                            \n",
       "\n",
       "      ...      title_“Cheese” burger  \\\n",
       "0     ...                          0   \n",
       "1     ...                          0   \n",
       "2     ...                          0   \n",
       "3     ...                          0   \n",
       "4     ...                          0   \n",
       "\n",
       "   title_“I’m sorry little one...but as they say, I did nothing wrong.”  \\\n",
       "0                                                  0                      \n",
       "1                                                  0                      \n",
       "2                                                  0                      \n",
       "3                                                  0                      \n",
       "4                                                  0                      \n",
       "\n",
       "   title_“Koloktos”, boss of “The Ancient Cistern” from “Zelda, Skyward Sword” is a mechanical entity that has been possessed by dark energy, and this is shown by a purple substance inside it. I wonder if this was a precursor to the possessed guardians and divine beasts from “Breath of the Wild”.  \\\n",
       "0                                                  0                                                                                                                                                                                                                                                        \n",
       "1                                                  0                                                                                                                                                                                                                                                        \n",
       "2                                                  0                                                                                                                                                                                                                                                        \n",
       "3                                                  0                                                                                                                                                                                                                                                        \n",
       "4                                                  0                                                                                                                                                                                                                                                        \n",
       "\n",
       "   title_“Make sure you’re recording. I want to send it to Mom, she’s always hated I bought this”  \\\n",
       "0                                                  0                                                \n",
       "1                                                  0                                                \n",
       "2                                                  0                                                \n",
       "3                                                  0                                                \n",
       "4                                                  0                                                \n",
       "\n",
       "   title_“That’s fuckin hot!” -Dan  \\\n",
       "0                                0   \n",
       "1                                0   \n",
       "2                                0   \n",
       "3                                0   \n",
       "4                                0   \n",
       "\n",
       "   title_“When West Virginia teachers went on strike, Bernie Sanders called immediately and asked the teachers what he could do to help.” -Randi Weingarten  \\\n",
       "0                                                  0                                                                                                          \n",
       "1                                                  0                                                                                                          \n",
       "2                                                  0                                                                                                          \n",
       "3                                                  0                                                                                                          \n",
       "4                                                  0                                                                                                          \n",
       "\n",
       "   title_👅  title_🔥 Blue Mycean Mushroom  \\\n",
       "0        0                             0   \n",
       "1        0                             0   \n",
       "2        0                             0   \n",
       "3        0                             0   \n",
       "4        0                             0   \n",
       "\n",
       "   title_🔥 Siberian Tiger covered in snow  title_🛁👰🏼😢  \n",
       "0                                       0           0  \n",
       "1                                       0           0  \n",
       "2                                       0           0  \n",
       "3                                       0           0  \n",
       "4                                       0           0  \n",
       "\n",
       "[5 rows x 990 columns]"
      ]
     },
     "execution_count": 177,
     "metadata": {},
     "output_type": "execute_result"
    }
   ],
   "source": [
    "comments_dummies = pd.get_dummies(comments, columns=['Binary', 'title'])\n",
    "comments_dummies.head()"
   ]
  },
  {
   "cell_type": "markdown",
   "metadata": {},
   "source": [
    "# Log with dummies "
   ]
  },
  {
   "cell_type": "code",
   "execution_count": null,
   "metadata": {},
   "outputs": [],
   "source": []
  },
  {
   "cell_type": "code",
   "execution_count": null,
   "metadata": {},
   "outputs": [],
   "source": []
  },
  {
   "cell_type": "code",
   "execution_count": 203,
   "metadata": {},
   "outputs": [],
   "source": [
    "features = ['URL','created','subreddit','ups']"
   ]
  },
  {
   "cell_type": "code",
   "execution_count": 204,
   "metadata": {},
   "outputs": [],
   "source": [
    "X = comments[features]\n",
    "y = comments['Binary']"
   ]
  },
  {
   "cell_type": "code",
   "execution_count": 205,
   "metadata": {},
   "outputs": [],
   "source": [
    "X_train, X_test, y_train, y_test = train_test_split(X, y, test_size=0.33, random_state=42)"
   ]
  },
  {
   "cell_type": "code",
   "execution_count": null,
   "metadata": {},
   "outputs": [],
   "source": [
    "log_reg = LogisticRegression()\n",
    "log_reg.fit(X_train, y_train)\n",
    "log_reg.score(X_test, y_test)"
   ]
  },
  {
   "cell_type": "code",
   "execution_count": null,
   "metadata": {},
   "outputs": [],
   "source": [
    "print('Logreg intercept:', log_reg.intercept_)\n",
    "print('Logreg coef(s):', log_reg.coef_)"
   ]
  },
  {
   "cell_type": "markdown",
   "metadata": {},
   "source": [
    "# Logistic Regression regular"
   ]
  },
  {
   "cell_type": "code",
   "execution_count": 178,
   "metadata": {},
   "outputs": [
    {
     "data": {
      "text/html": [
       "<div>\n",
       "<style scoped>\n",
       "    .dataframe tbody tr th:only-of-type {\n",
       "        vertical-align: middle;\n",
       "    }\n",
       "\n",
       "    .dataframe tbody tr th {\n",
       "        vertical-align: top;\n",
       "    }\n",
       "\n",
       "    .dataframe thead th {\n",
       "        text-align: right;\n",
       "    }\n",
       "</style>\n",
       "<table border=\"1\" class=\"dataframe\">\n",
       "  <thead>\n",
       "    <tr style=\"text-align: right;\">\n",
       "      <th></th>\n",
       "      <th>URL</th>\n",
       "      <th>comments</th>\n",
       "      <th>created</th>\n",
       "      <th>subreddit</th>\n",
       "      <th>title</th>\n",
       "      <th>ups</th>\n",
       "      <th>Binary</th>\n",
       "    </tr>\n",
       "  </thead>\n",
       "  <tbody>\n",
       "    <tr>\n",
       "      <th>0</th>\n",
       "      <td>http://www.thesmokinggun.com//documents/celebr...</td>\n",
       "      <td>1387</td>\n",
       "      <td>1.531709e+09</td>\n",
       "      <td>todayilearned</td>\n",
       "      <td>TIL Madonna leaked a fake version of her album...</td>\n",
       "      <td>29588</td>\n",
       "      <td>1</td>\n",
       "    </tr>\n",
       "    <tr>\n",
       "      <th>1</th>\n",
       "      <td>https://i.redd.it/5rbdwrt4n5a11.jpg</td>\n",
       "      <td>281</td>\n",
       "      <td>1.531708e+09</td>\n",
       "      <td>aww</td>\n",
       "      <td>I haven’t met my new neighbor yet, but her dog...</td>\n",
       "      <td>36194</td>\n",
       "      <td>1</td>\n",
       "    </tr>\n",
       "    <tr>\n",
       "      <th>2</th>\n",
       "      <td>https://i.redd.it/jvkk2xwhf5a11.jpg</td>\n",
       "      <td>652</td>\n",
       "      <td>1.531705e+09</td>\n",
       "      <td>pcmasterrace</td>\n",
       "      <td>this is kinda true</td>\n",
       "      <td>23399</td>\n",
       "      <td>1</td>\n",
       "    </tr>\n",
       "    <tr>\n",
       "      <th>3</th>\n",
       "      <td>https://i.redd.it/j0642xwgc5a11.jpg</td>\n",
       "      <td>272</td>\n",
       "      <td>1.531704e+09</td>\n",
       "      <td>BikiniBottomTwitter</td>\n",
       "      <td>Dennis has a son</td>\n",
       "      <td>21195</td>\n",
       "      <td>1</td>\n",
       "    </tr>\n",
       "    <tr>\n",
       "      <th>4</th>\n",
       "      <td>https://twitter.com/FIFAWorldCup/status/101854...</td>\n",
       "      <td>1179</td>\n",
       "      <td>1.531704e+09</td>\n",
       "      <td>soccer</td>\n",
       "      <td>Luka Modrić wins the 2018 World Cup Golden Ball</td>\n",
       "      <td>11031</td>\n",
       "      <td>1</td>\n",
       "    </tr>\n",
       "  </tbody>\n",
       "</table>\n",
       "</div>"
      ],
      "text/plain": [
       "                                                 URL  comments       created  \\\n",
       "0  http://www.thesmokinggun.com//documents/celebr...      1387  1.531709e+09   \n",
       "1                https://i.redd.it/5rbdwrt4n5a11.jpg       281  1.531708e+09   \n",
       "2                https://i.redd.it/jvkk2xwhf5a11.jpg       652  1.531705e+09   \n",
       "3                https://i.redd.it/j0642xwgc5a11.jpg       272  1.531704e+09   \n",
       "4  https://twitter.com/FIFAWorldCup/status/101854...      1179  1.531704e+09   \n",
       "\n",
       "             subreddit                                              title  \\\n",
       "0        todayilearned  TIL Madonna leaked a fake version of her album...   \n",
       "1                  aww  I haven’t met my new neighbor yet, but her dog...   \n",
       "2         pcmasterrace                                 this is kinda true   \n",
       "3  BikiniBottomTwitter                                   Dennis has a son   \n",
       "4               soccer    Luka Modrić wins the 2018 World Cup Golden Ball   \n",
       "\n",
       "     ups  Binary  \n",
       "0  29588       1  \n",
       "1  36194       1  \n",
       "2  23399       1  \n",
       "3  21195       1  \n",
       "4  11031       1  "
      ]
     },
     "execution_count": 178,
     "metadata": {},
     "output_type": "execute_result"
    }
   ],
   "source": [
    "comments.head()"
   ]
  },
  {
   "cell_type": "code",
   "execution_count": 179,
   "metadata": {},
   "outputs": [],
   "source": [
    "X = comments['title'].values\n",
    "y = comments['Binary']"
   ]
  },
  {
   "cell_type": "code",
   "execution_count": 180,
   "metadata": {},
   "outputs": [],
   "source": [
    "X_train, X_test, y_train, y_test = train_test_split(X, y, test_size=0.33, random_state=42)"
   ]
  },
  {
   "cell_type": "code",
   "execution_count": 181,
   "metadata": {},
   "outputs": [],
   "source": [
    "tvec = TfidfVectorizer(stop_words='english')\n",
    "X_train_counts = tvec.fit_transform(X_train)\n",
    "X_test_counts = tvec.transform(X_test)"
   ]
  },
  {
   "cell_type": "code",
   "execution_count": 182,
   "metadata": {},
   "outputs": [
    {
     "data": {
      "text/plain": [
       "0.806060606060606"
      ]
     },
     "execution_count": 182,
     "metadata": {},
     "output_type": "execute_result"
    }
   ],
   "source": [
    "log_reg = LogisticRegression()\n",
    "log_reg.fit(X_train_counts, y_train)\n",
    "log_reg.score(X_test_counts, y_test)"
   ]
  },
  {
   "cell_type": "code",
   "execution_count": 183,
   "metadata": {},
   "outputs": [
    {
     "name": "stdout",
     "output_type": "stream",
     "text": [
      "Logreg intercept: [-1.45087187]\n",
      "Logreg coef(s): [[ 0.22802093 -0.08679222  0.35018509 ... -0.1244891  -0.10593011\n",
      "  -0.07410856]]\n"
     ]
    }
   ],
   "source": [
    "print('Logreg intercept:', log_reg.intercept_)\n",
    "print('Logreg coef(s):', log_reg.coef_)"
   ]
  },
  {
   "cell_type": "code",
   "execution_count": null,
   "metadata": {},
   "outputs": [],
   "source": []
  },
  {
   "cell_type": "code",
   "execution_count": null,
   "metadata": {},
   "outputs": [],
   "source": []
  },
  {
   "cell_type": "code",
   "execution_count": 184,
   "metadata": {},
   "outputs": [
    {
     "data": {
      "text/plain": [
       "Index(['URL', 'comments', 'created', 'subreddit', 'title', 'ups', 'Binary'], dtype='object')"
      ]
     },
     "execution_count": 184,
     "metadata": {},
     "output_type": "execute_result"
    }
   ],
   "source": [
    "comments.columns"
   ]
  },
  {
   "cell_type": "code",
   "execution_count": 185,
   "metadata": {},
   "outputs": [],
   "source": [
    "features = ['URL','created','subreddit','ups']"
   ]
  },
  {
   "cell_type": "code",
   "execution_count": 211,
   "metadata": {},
   "outputs": [],
   "source": [
    "X = comments[features]\n",
    "y = comments['Binary']"
   ]
  },
  {
   "cell_type": "code",
   "execution_count": 212,
   "metadata": {},
   "outputs": [],
   "source": [
    "X_train, X_test, y_train, y_test = train_test_split(X, y, test_size=0.33, random_state=42)"
   ]
  },
  {
   "cell_type": "code",
   "execution_count": 213,
   "metadata": {},
   "outputs": [
    {
     "data": {
      "text/plain": [
       "0.806060606060606"
      ]
     },
     "execution_count": 213,
     "metadata": {},
     "output_type": "execute_result"
    }
   ],
   "source": [
    "log_reg = LogisticRegression()\n",
    "log_reg.fit(X_train_counts, y_train)\n",
    "log_reg.score(X_test_counts, y_test)"
   ]
  },
  {
   "cell_type": "code",
   "execution_count": 188,
   "metadata": {},
   "outputs": [
    {
     "name": "stdout",
     "output_type": "stream",
     "text": [
      "Logreg intercept: [-1.45087187]\n",
      "Logreg coef(s): [[ 0.22802093 -0.08679222  0.35018509 ... -0.1244891  -0.10593011\n",
      "  -0.07410856]]\n"
     ]
    }
   ],
   "source": [
    "print('Logreg intercept:', log_reg.intercept_)\n",
    "print('Logreg coef(s):', log_reg.coef_)"
   ]
  },
  {
   "cell_type": "code",
   "execution_count": 189,
   "metadata": {},
   "outputs": [],
   "source": [
    "coefs = pd.DataFrame(log_reg.coef_)"
   ]
  },
  {
   "cell_type": "code",
   "execution_count": 190,
   "metadata": {},
   "outputs": [
    {
     "data": {
      "text/html": [
       "<div>\n",
       "<style scoped>\n",
       "    .dataframe tbody tr th:only-of-type {\n",
       "        vertical-align: middle;\n",
       "    }\n",
       "\n",
       "    .dataframe tbody tr th {\n",
       "        vertical-align: top;\n",
       "    }\n",
       "\n",
       "    .dataframe thead th {\n",
       "        text-align: right;\n",
       "    }\n",
       "</style>\n",
       "<table border=\"1\" class=\"dataframe\">\n",
       "  <thead>\n",
       "    <tr style=\"text-align: right;\">\n",
       "      <th></th>\n",
       "      <th>0</th>\n",
       "      <th>1</th>\n",
       "      <th>2</th>\n",
       "      <th>3</th>\n",
       "      <th>4</th>\n",
       "      <th>5</th>\n",
       "      <th>6</th>\n",
       "      <th>7</th>\n",
       "      <th>8</th>\n",
       "      <th>9</th>\n",
       "      <th>...</th>\n",
       "      <th>2247</th>\n",
       "      <th>2248</th>\n",
       "      <th>2249</th>\n",
       "      <th>2250</th>\n",
       "      <th>2251</th>\n",
       "      <th>2252</th>\n",
       "      <th>2253</th>\n",
       "      <th>2254</th>\n",
       "      <th>2255</th>\n",
       "      <th>2256</th>\n",
       "    </tr>\n",
       "  </thead>\n",
       "  <tbody>\n",
       "    <tr>\n",
       "      <th>0</th>\n",
       "      <td>0.228021</td>\n",
       "      <td>-0.086792</td>\n",
       "      <td>0.350185</td>\n",
       "      <td>0.239737</td>\n",
       "      <td>-0.112333</td>\n",
       "      <td>-0.075542</td>\n",
       "      <td>-0.064452</td>\n",
       "      <td>-0.093304</td>\n",
       "      <td>-0.06181</td>\n",
       "      <td>-0.040302</td>\n",
       "      <td>...</td>\n",
       "      <td>-0.257766</td>\n",
       "      <td>-0.095674</td>\n",
       "      <td>-0.082069</td>\n",
       "      <td>0.350004</td>\n",
       "      <td>-0.222731</td>\n",
       "      <td>-0.010865</td>\n",
       "      <td>0.255589</td>\n",
       "      <td>-0.124489</td>\n",
       "      <td>-0.10593</td>\n",
       "      <td>-0.074109</td>\n",
       "    </tr>\n",
       "  </tbody>\n",
       "</table>\n",
       "<p>1 rows × 2257 columns</p>\n",
       "</div>"
      ],
      "text/plain": [
       "       0         1         2         3         4         5         6     \\\n",
       "0  0.228021 -0.086792  0.350185  0.239737 -0.112333 -0.075542 -0.064452   \n",
       "\n",
       "       7        8         9       ...         2247      2248      2249  \\\n",
       "0 -0.093304 -0.06181 -0.040302    ...    -0.257766 -0.095674 -0.082069   \n",
       "\n",
       "       2250      2251      2252      2253      2254     2255      2256  \n",
       "0  0.350004 -0.222731 -0.010865  0.255589 -0.124489 -0.10593 -0.074109  \n",
       "\n",
       "[1 rows x 2257 columns]"
      ]
     },
     "execution_count": 190,
     "metadata": {},
     "output_type": "execute_result"
    }
   ],
   "source": [
    "coefs"
   ]
  },
  {
   "cell_type": "markdown",
   "metadata": {},
   "source": [
    "#### Create a Random Forest model to predict High/Low number of comments using Sklearn. Start by ONLY using the subreddit as a feature. "
   ]
  },
  {
   "cell_type": "code",
   "execution_count": 191,
   "metadata": {},
   "outputs": [],
   "source": [
    "from sklearn.model_selection import cross_val_score, StratifiedKFold\n",
    "from sklearn.tree import DecisionTreeClassifier\n",
    "from sklearn.ensemble import RandomForestClassifier, ExtraTreesClassifier, BaggingClassifier\n",
    "\n",
    "cv = StratifiedKFold(n_splits=3, shuffle=True, random_state=41)"
   ]
  },
  {
   "cell_type": "code",
   "execution_count": 192,
   "metadata": {},
   "outputs": [
    {
     "data": {
      "text/plain": [
       "hmmm                                                                                                                                                                                                                                                                                                0.003\n",
       "me irl                                                                                                                                                                                                                                                                                              0.002\n",
       "Highway Administration workers hate him                                                                                                                                                                                                                                                             0.002\n",
       "The cat does not allow you to pet the kitty                                                                                                                                                                                                                                                         0.002\n",
       "Oof                                                                                                                                                                                                                                                                                                 0.002\n",
       "This person dropped their phone in a bike chain while riding.                                                                                                                                                                                                                                       0.002\n",
       "World’s First Colored Human X-Ray Applies CERN Technology Used In Search Of ‘God Particle’                                                                                                                                                                                                          0.002\n",
       "This short video shows that Trump's \"Russia, if you're listening\" comment wasn't a joke. Consider upvoting so that more people might learn he was dead serious. And whenever somebody disregards his comment as just a joke, consider responding with this link.                                    0.002\n",
       "Surprise tactics                                                                                                                                                                                                                                                                                    0.002\n",
       "Tree trunk carving                                                                                                                                                                                                                                                                                  0.002\n",
       "Donald Trump ‘Owned’ By Russia ‘For Many Years,’ Says ‘Art Of Deal’ Ghostwriter, Calls Trump ‘America’s Enemy’                                                                                                                                                                                      0.002\n",
       "“Cheese” burger                                                                                                                                                                                                                                                                                     0.002\n",
       "anime_irl                                                                                                                                                                                                                                                                                           0.002\n",
       "San Francisco sends less trash to the landfill than any other major U.S. city - The city diverts about 80 percent of its waste from landfills, or more than 1.5 million tons every year. San Francisco aims to reach zero waste by 2020.                                                            0.002\n",
       "2meirl4meirl                                                                                                                                                                                                                                                                                        0.002\n",
       "TIL Madonna leaked a fake version of her album to pirates where every song was a loop of her saying \"What the fuck do you think you're doing?\" In response, a hacker posted the real album on her own site for everyone to download with the message: \"This is what the fuck I think I'm doing.\"    0.002\n",
       "Fingering myself on the floor F/36                                                                                                                                                                                                                                                                  0.001\n",
       "Square Enix Reports Shortages for Octopath Traveler for Nintendo Switch in Japan                                                                                                                                                                                                                    0.001\n",
       "France wins second World Cup title with 4-2 victory over Croatia                                                                                                                                                                                                                                    0.001\n",
       "Does anyone know the name of this plant?                                                                                                                                                                                                                                                            0.001\n",
       "[Spoiler] Niko Price vs. Randy Brown                                                                                                                                                                                                                                                                0.001\n",
       "Red Lotus Lake, Thailand                                                                                                                                                                                                                                                                            0.001\n",
       "I’m most definitely an adult                                                                                                                                                                                                                                                                        0.001\n",
       ".                                                                                                                                                                                                                                                                                                   0.001\n",
       "Megumin playing Volleyball                                                                                                                                                                                                                                                                          0.001\n",
       "Stretch marks = pregnant.                                                                                                                                                                                                                                                                           0.001\n",
       "Blue Mycean Mushroom                                                                                                                                                                                                                                                                                0.001\n",
       "C O N F I D E N C E                                                                                                                                                                                                                                                                                 0.001\n",
       "The real reason dwarfs hate elves                                                                                                                                                                                                                                                                   0.001\n",
       "Can you tell they’re siblings?                                                                                                                                                                                                                                                                      0.001\n",
       "                                                                                                                                                                                                                                                                                                    ...  \n",
       "Our boy Ollie is about to become world champion. So chuffed for him                                                                                                                                                                                                                                 0.001\n",
       "Jackal's ability is superb sometimes                                                                                                                                                                                                                                                                0.001\n",
       "PsBattle: French President celebrating                                                                                                                                                                                                                                                              0.001\n",
       "Dennis has a son                                                                                                                                                                                                                                                                                    0.001\n",
       "Girlfriend swallows cum in Сinema                                                                                                                                                                                                                                                                   0.001\n",
       "Apparently my downstairs neighbors can hear me better than I thought.                                                                                                                                                                                                                               0.001\n",
       "A hole in his curtains made a camera obscura in my son's room, projecting an image of the street onto his wall.                                                                                                                                                                                     0.001\n",
       "Is this Anasa Prime?                                                                                                                                                                                                                                                                                0.001\n",
       "An accent wall of rifles                                                                                                                                                                                                                                                                            0.001\n",
       "WTF,, EPIC GAMES.THIS IS NOT EPIC                                                                                                                                                                                                                                                                   0.001\n",
       "Toothless man shows up with lottery ticket worth $258.5 million                                                                                                                                                                                                                                     0.001\n",
       "Markz just went in on NA pros for being too lazy to organize TR games on countdown                                                                                                                                                                                                                  0.001\n",
       "[Homemade] Sesame Balls                                                                                                                                                                                                                                                                             0.001\n",
       "She fucked a lot of cocks that night                                                                                                                                                                                                                                                                0.001\n",
       "I fucked a college baseball player last night... my lips got stretched! (GIF)                                                                                                                                                                                                                       0.001\n",
       "“I’m sorry little one...but as they say, I did nothing wrong.”                                                                                                                                                                                                                                      0.001\n",
       "Confused reacc                                                                                                                                                                                                                                                                                      0.001\n",
       "Stop motion animation for \"Kubo and the two strings.\"                                                                                                                                                                                                                                               0.001\n",
       "Jacob always the realist                                                                                                                                                                                                                                                                            0.001\n",
       "Fubuki Coloring by Fujitastatara                                                                                                                                                                                                                                                                    0.001\n",
       "Unexpected sad cringe while scrolling                                                                                                                                                                                                                                                               0.001\n",
       "New lingerie got me feeling 10/10 🕷                                                                                                                                                                                                                                                                 0.001\n",
       "[Joke] D&D Home Schooling                                                                                                                                                                                                                                                                           0.001\n",
       "I designed a Tengu inspired counterpart to the drift skin!                                                                                                                                                                                                                                          0.001\n",
       "Please make sure to block all holes in the cat tank, as the liquid will spill out.                                                                                                                                                                                                                  0.001\n",
       "Fucking gf quick in her ass and she sucks it after [M][F]                                                                                                                                                                                                                                           0.001\n",
       "Record Breaking Number of neo-Nazis and White Nationalists Running for Office in the U.S.                                                                                                                                                                                                           0.001\n",
       "Rx78-2 Gundam Fanart by Nick Wong                                                                                                                                                                                                                                                                   0.001\n",
       "Normal neighborhood situation                                                                                                                                                                                                                                                                       0.001\n",
       "What are these? Ferrero Rocher for ants?                                                                                                                                                                                                                                                            0.001\n",
       "Name: title, Length: 983, dtype: float64"
      ]
     },
     "execution_count": 192,
     "metadata": {},
     "output_type": "execute_result"
    }
   ],
   "source": [
    "comments['title'].value_counts()/comments.shape[0]"
   ]
  },
  {
   "cell_type": "code",
   "execution_count": 193,
   "metadata": {
    "scrolled": true
   },
   "outputs": [
    {
     "name": "stdout",
     "output_type": "stream",
     "text": [
      "<class 'pandas.core.frame.DataFrame'>\n",
      "RangeIndex: 1000 entries, 0 to 999\n",
      "Data columns (total 7 columns):\n",
      "URL          1000 non-null object\n",
      "comments     1000 non-null int64\n",
      "created      1000 non-null float64\n",
      "subreddit    1000 non-null object\n",
      "title        1000 non-null object\n",
      "ups          1000 non-null int64\n",
      "Binary       1000 non-null int64\n",
      "dtypes: float64(1), int64(3), object(3)\n",
      "memory usage: 54.8+ KB\n"
     ]
    }
   ],
   "source": [
    "comments.info()"
   ]
  },
  {
   "cell_type": "code",
   "execution_count": 196,
   "metadata": {},
   "outputs": [
    {
     "data": {
      "text/plain": [
       "0.7454545454545455"
      ]
     },
     "execution_count": 196,
     "metadata": {},
     "output_type": "execute_result"
    }
   ],
   "source": [
    "tree = DecisionTreeClassifier()\n",
    "tree.fit(X_train_counts, y_train)\n",
    "tree.score(X_test_counts, y_test)"
   ]
  },
  {
   "cell_type": "code",
   "execution_count": 200,
   "metadata": {},
   "outputs": [
    {
     "name": "stdout",
     "output_type": "stream",
     "text": [
      "0.7985074626865671\n",
      "{'max_depth': 2, 'max_features': 3, 'n_estimators': 10}\n"
     ]
    }
   ],
   "source": [
    "rf = RandomForestClassifier()\n",
    "rf_params = {\n",
    "    'n_estimators': [10],\n",
    "    'max_features': [3, 4, 5],\n",
    "    'max_depth': [None, 2, 3, 4]\n",
    "}\n",
    "gs = GridSearchCV(rf, param_grid=rf_params)\n",
    "gs.fit(X_train_counts, y_train)\n",
    "print(gs.best_score_)\n",
    "print(gs.best_params_)"
   ]
  },
  {
   "cell_type": "markdown",
   "metadata": {},
   "source": [
    "## Bagging Classifier"
   ]
  },
  {
   "cell_type": "code",
   "execution_count": 202,
   "metadata": {},
   "outputs": [
    {
     "name": "stdout",
     "output_type": "stream",
     "text": [
      "0.7940298507462686\n",
      "{'n_estimators': 19}\n"
     ]
    }
   ],
   "source": [
    "bag = BaggingClassifier()\n",
    "bag_params = {\n",
    "    'n_estimators': range(10, 21)\n",
    "}\n",
    "gs = GridSearchCV(bag, param_grid=bag_params)\n",
    "gs.fit(X_train_counts, y_train)\n",
    "print(gs.best_score_)\n",
    "print(gs.best_params_)"
   ]
  },
  {
   "cell_type": "markdown",
   "metadata": {},
   "source": [
    "## Extra trees"
   ]
  },
  {
   "cell_type": "code",
   "execution_count": 201,
   "metadata": {},
   "outputs": [
    {
     "data": {
      "text/plain": [
       "0.8"
      ]
     },
     "execution_count": 201,
     "metadata": {},
     "output_type": "execute_result"
    }
   ],
   "source": [
    "et = ExtraTreesClassifier()\n",
    "et.fit(X_train_counts, y_train)\n",
    "et.score(X_test_counts, y_test)"
   ]
  },
  {
   "cell_type": "markdown",
   "metadata": {},
   "source": [
    "#### Create a few new variables in your dataframe to represent interesting features of a thread title.\n",
    "- For example, create a feature that represents whether 'cat' is in the title or whether 'funny' is in the title. \n",
    "- Then build a new Random Forest with these features. Do they add any value?\n",
    "- After creating these variables, use count-vectorizer to create features based on the words in the thread titles.\n",
    "- Build a new random forest model with subreddit and these new features included."
   ]
  },
  {
   "cell_type": "code",
   "execution_count": 77,
   "metadata": {},
   "outputs": [],
   "source": [
    "## YOUR CODE HERE\n",
    "## Did this above code "
   ]
  },
  {
   "cell_type": "markdown",
   "metadata": {},
   "source": [
    "#### Use cross-validation in scikit-learn to evaluate the model above. \n",
    "- Evaluate the accuracy of the model, as well as any other metrics you feel are appropriate. "
   ]
  },
  {
   "cell_type": "code",
   "execution_count": null,
   "metadata": {},
   "outputs": [],
   "source": [
    "## YOUR CODE HERE\n",
    "# did this above code "
   ]
  },
  {
   "cell_type": "markdown",
   "metadata": {},
   "source": [
    "#### Repeat the model-building process with a non-tree-based method."
   ]
  },
  {
   "cell_type": "code",
   "execution_count": null,
   "metadata": {},
   "outputs": [],
   "source": [
    "## YOUR CODE HERE\n",
    "# did this above code "
   ]
  },
  {
   "cell_type": "markdown",
   "metadata": {},
   "source": [
    "#### Use Count Vectorizer from scikit-learn to create features from the thread titles. \n",
    "- Examine using count or binary features in the model\n",
    "- Re-evaluate your models using these. Does this improve the model performance? \n",
    "- What text features are the most valuable? "
   ]
  },
  {
   "cell_type": "code",
   "execution_count": null,
   "metadata": {},
   "outputs": [],
   "source": [
    "## YOUR CODE HERE\n",
    "# CountVectorizer was the same with or without the countvectorizer as seen above."
   ]
  },
  {
   "cell_type": "markdown",
   "metadata": {},
   "source": [
    "# Executive Summary\n",
    "---\n",
    "Put your executive summary in a Markdown cell below.\n",
    "\n",
    "1) shows that obvisouly the comments that was above the average had way more ups\n",
    "2) The data I gathered seem to not be enough to really make a summary. I would have to work more on this but as of now. I wanted to hand in the project to be able to finish labs and capsone"
   ]
  },
  {
   "cell_type": "markdown",
   "metadata": {},
   "source": [
    "### BONUS\n",
    "Refer to the README for the bonus parts"
   ]
  },
  {
   "cell_type": "code",
   "execution_count": null,
   "metadata": {},
   "outputs": [],
   "source": [
    "## YOUR CODE HERE"
   ]
  },
  {
   "cell_type": "code",
   "execution_count": null,
   "metadata": {},
   "outputs": [],
   "source": []
  },
  {
   "cell_type": "code",
   "execution_count": null,
   "metadata": {},
   "outputs": [],
   "source": []
  }
 ],
 "metadata": {
  "kernelspec": {
   "display_name": "Python [conda env:anaconda3]",
   "language": "python",
   "name": "conda-env-anaconda3-py"
  },
  "language_info": {
   "codemirror_mode": {
    "name": "ipython",
    "version": 3
   },
   "file_extension": ".py",
   "mimetype": "text/x-python",
   "name": "python",
   "nbconvert_exporter": "python",
   "pygments_lexer": "ipython3",
   "version": "3.6.4"
  }
 },
 "nbformat": 4,
 "nbformat_minor": 2
}
